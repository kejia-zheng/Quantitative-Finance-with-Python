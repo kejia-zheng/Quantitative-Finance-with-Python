{
 "cells": [
  {
   "cell_type": "markdown",
   "metadata": {},
   "source": [
    "# Homework 6"
   ]
  },
  {
   "cell_type": "markdown",
   "metadata": {},
   "source": [
    "\n",
    "\n",
    "Please always annualize all Sharpe Ratios in all the following questions"
   ]
  },
  {
   "cell_type": "markdown",
   "metadata": {},
   "source": [
    "\n",
    "\n",
    "\n",
    "### 1. \n",
    "\n",
    "In order to proceed you need Microsoft Excel and file \"url='https://www.dropbox.com/s/5ztd2mdq6dn7cqj/crsp19632017.csv?dl=1'\". \n",
    "(also in blackboard)\n",
    "\n",
    "a) Start by importing the data, parsing the date appropriate, and organizing the data set as we did in notebook 7\n",
    "\n",
    "\n",
    "b) Using the momentum function we have in notebook 7 as a starting point, I would like you to make it general and to the take the following parameters as inputs\n",
    "\n",
    "   - lookback period \n",
    "   - how many months to skip between signal and portolio formation\n",
    "   - number of groups, i.e., the number of portfolios\n",
    "   - weighting scheme: equal weighted, market cap weighted, volume weighted\n",
    "   - Signal: cumulative returns in the lookback windown, lowest return in the lookback, highest return in lookback, volatility in lookback period\n",
    "   \n",
    "\n",
    "   \n",
    "c) The code should output the Sharpe ratio of the portfolio that goes long the top group (the one that in the top of the signal distribution) and shorts the bottom group (the one with stocks from the bottom of the signal distribution)\n",
    "\n",
    "\n",
    "TIP: the SR of a long-short is simply $mean(R^{longshort})/std(R^{longshort})$\n"
   ]
  },
  {
   "cell_type": "code",
   "execution_count": 2,
   "metadata": {},
   "outputs": [
    {
     "name": "stderr",
     "output_type": "stream",
     "text": [
      "/anaconda3/lib/python3.7/site-packages/numpy/lib/arraysetops.py:569: FutureWarning: elementwise comparison failed; returning scalar instead, but in the future will perform elementwise comparison\n",
      "  mask |= (ar1 == a)\n"
     ]
    }
   ],
   "source": [
    "import pandas as pd\n",
    "import numpy as np\n",
    "import datetime as dt\n",
    "import matplotlib.pyplot as plt\n",
    "%matplotlib inline\n",
    "from dateutil.relativedelta import *\n",
    "from pandas.tseries.offsets import *\n",
    "from scipy import stats\n",
    "import statsmodels.api as sm\n",
    "\n",
    "url = 'https://www.dropbox.com/s/5ztd2mdq6dn7cqj/crsp19632017.csv?dl=1'\n",
    "df = pd.read_csv(url, index_col=0)"
   ]
  },
  {
   "cell_type": "code",
   "execution_count": 3,
   "metadata": {
    "scrolled": true
   },
   "outputs": [
    {
     "data": {
      "text/html": [
       "<div>\n",
       "<style scoped>\n",
       "    .dataframe tbody tr th:only-of-type {\n",
       "        vertical-align: middle;\n",
       "    }\n",
       "\n",
       "    .dataframe tbody tr th {\n",
       "        vertical-align: top;\n",
       "    }\n",
       "\n",
       "    .dataframe thead th {\n",
       "        text-align: right;\n",
       "    }\n",
       "</style>\n",
       "<table border=\"1\" class=\"dataframe\">\n",
       "  <thead>\n",
       "    <tr style=\"text-align: right;\">\n",
       "      <th></th>\n",
       "      <th>permno</th>\n",
       "      <th>permco</th>\n",
       "      <th>ret</th>\n",
       "      <th>vol</th>\n",
       "      <th>shrout</th>\n",
       "      <th>prc</th>\n",
       "      <th>cfacpr</th>\n",
       "      <th>cfacshr</th>\n",
       "      <th>date</th>\n",
       "      <th>shrcd</th>\n",
       "      <th>exchcd</th>\n",
       "      <th>siccd</th>\n",
       "      <th>ncusip</th>\n",
       "      <th>MEdate</th>\n",
       "      <th>Price</th>\n",
       "      <th>TShares</th>\n",
       "      <th>MCap</th>\n",
       "    </tr>\n",
       "  </thead>\n",
       "  <tbody>\n",
       "    <tr>\n",
       "      <th>0</th>\n",
       "      <td>10000</td>\n",
       "      <td>7952</td>\n",
       "      <td>NaN</td>\n",
       "      <td>1771.0</td>\n",
       "      <td>3680.0</td>\n",
       "      <td>-4.375000</td>\n",
       "      <td>1.0</td>\n",
       "      <td>1.0</td>\n",
       "      <td>1986-01-31</td>\n",
       "      <td>10</td>\n",
       "      <td>3</td>\n",
       "      <td>3990.0</td>\n",
       "      <td>68391610</td>\n",
       "      <td>1986-01-31</td>\n",
       "      <td>4.375000</td>\n",
       "      <td>3680000.0</td>\n",
       "      <td>16.100000</td>\n",
       "    </tr>\n",
       "    <tr>\n",
       "      <th>1</th>\n",
       "      <td>10000</td>\n",
       "      <td>7952</td>\n",
       "      <td>-0.257143</td>\n",
       "      <td>828.0</td>\n",
       "      <td>3680.0</td>\n",
       "      <td>-3.250000</td>\n",
       "      <td>1.0</td>\n",
       "      <td>1.0</td>\n",
       "      <td>1986-02-28</td>\n",
       "      <td>10</td>\n",
       "      <td>3</td>\n",
       "      <td>3990.0</td>\n",
       "      <td>68391610</td>\n",
       "      <td>1986-02-28</td>\n",
       "      <td>3.250000</td>\n",
       "      <td>3680000.0</td>\n",
       "      <td>11.960000</td>\n",
       "    </tr>\n",
       "    <tr>\n",
       "      <th>2</th>\n",
       "      <td>10000</td>\n",
       "      <td>7952</td>\n",
       "      <td>0.365385</td>\n",
       "      <td>1078.0</td>\n",
       "      <td>3680.0</td>\n",
       "      <td>-4.437500</td>\n",
       "      <td>1.0</td>\n",
       "      <td>1.0</td>\n",
       "      <td>1986-03-31</td>\n",
       "      <td>10</td>\n",
       "      <td>3</td>\n",
       "      <td>3990.0</td>\n",
       "      <td>68391610</td>\n",
       "      <td>1986-03-31</td>\n",
       "      <td>4.437500</td>\n",
       "      <td>3680000.0</td>\n",
       "      <td>16.330000</td>\n",
       "    </tr>\n",
       "    <tr>\n",
       "      <th>3</th>\n",
       "      <td>10000</td>\n",
       "      <td>7952</td>\n",
       "      <td>-0.098592</td>\n",
       "      <td>957.0</td>\n",
       "      <td>3793.0</td>\n",
       "      <td>-4.000000</td>\n",
       "      <td>1.0</td>\n",
       "      <td>1.0</td>\n",
       "      <td>1986-04-30</td>\n",
       "      <td>10</td>\n",
       "      <td>3</td>\n",
       "      <td>3990.0</td>\n",
       "      <td>68391610</td>\n",
       "      <td>1986-04-30</td>\n",
       "      <td>4.000000</td>\n",
       "      <td>3793000.0</td>\n",
       "      <td>15.172000</td>\n",
       "    </tr>\n",
       "    <tr>\n",
       "      <th>4</th>\n",
       "      <td>10000</td>\n",
       "      <td>7952</td>\n",
       "      <td>-0.222656</td>\n",
       "      <td>1074.0</td>\n",
       "      <td>3793.0</td>\n",
       "      <td>-3.109375</td>\n",
       "      <td>1.0</td>\n",
       "      <td>1.0</td>\n",
       "      <td>1986-05-30</td>\n",
       "      <td>10</td>\n",
       "      <td>3</td>\n",
       "      <td>3990.0</td>\n",
       "      <td>68391610</td>\n",
       "      <td>1986-05-31</td>\n",
       "      <td>3.109375</td>\n",
       "      <td>3793000.0</td>\n",
       "      <td>11.793859</td>\n",
       "    </tr>\n",
       "  </tbody>\n",
       "</table>\n",
       "</div>"
      ],
      "text/plain": [
       "   permno  permco       ret     vol  shrout       prc  cfacpr  cfacshr  \\\n",
       "0   10000    7952       NaN  1771.0  3680.0 -4.375000     1.0      1.0   \n",
       "1   10000    7952 -0.257143   828.0  3680.0 -3.250000     1.0      1.0   \n",
       "2   10000    7952  0.365385  1078.0  3680.0 -4.437500     1.0      1.0   \n",
       "3   10000    7952 -0.098592   957.0  3793.0 -4.000000     1.0      1.0   \n",
       "4   10000    7952 -0.222656  1074.0  3793.0 -3.109375     1.0      1.0   \n",
       "\n",
       "        date  shrcd  exchcd   siccd    ncusip     MEdate     Price    TShares  \\\n",
       "0 1986-01-31     10       3  3990.0  68391610 1986-01-31  4.375000  3680000.0   \n",
       "1 1986-02-28     10       3  3990.0  68391610 1986-02-28  3.250000  3680000.0   \n",
       "2 1986-03-31     10       3  3990.0  68391610 1986-03-31  4.437500  3680000.0   \n",
       "3 1986-04-30     10       3  3990.0  68391610 1986-04-30  4.000000  3793000.0   \n",
       "4 1986-05-30     10       3  3990.0  68391610 1986-05-31  3.109375  3793000.0   \n",
       "\n",
       "        MCap  \n",
       "0  16.100000  \n",
       "1  11.960000  \n",
       "2  16.330000  \n",
       "3  15.172000  \n",
       "4  11.793859  "
      ]
     },
     "execution_count": 3,
     "metadata": {},
     "output_type": "execute_result"
    }
   ],
   "source": [
    "df1 = df.copy()\n",
    "df1[['permco','permno','shrcd','exchcd']] = df1[['permco','permno','shrcd','exchcd']].astype(int)\n",
    "df1['date'] = pd.to_datetime(df1['date'])\n",
    "df1['MEdate'] = df1['date'] + MonthEnd(0)\n",
    "df1['Price'] = df1['prc'].abs()/df1['cfacpr']\n",
    "df1['TShares'] = df1['shrout']*df1['cfacshr']*1e3\n",
    "df1['MCap'] = df1['Price'] * df1['TShares']/1e6\n",
    "df1.head()"
   ]
  },
  {
   "cell_type": "code",
   "execution_count": 4,
   "metadata": {},
   "outputs": [],
   "source": [
    "# a), b) \n",
    "# weight_name: equal weighted, market cap weighted, volume weighted\n",
    "# Signal: cumulative return, lowest return, highest return, volatility\n",
    "\n",
    "def momreturns(data, window, skip, group, signal_name, weight_name):\n",
    "\n",
    "    # Organize the dataset.\n",
    "    df_mom = data[['permno','date','ret', 'MCap','vol','prc']].sort_values(['permno','date']).set_index('date')\n",
    "    df_mom['volume'] = df_mom['vol']*df_mom['prc'].abs()*100/1e6\n",
    "    df_mom['ret'] = df_mom['ret'].fillna(0)\n",
    "    df_mom['logret'] = np.log(1 + df_mom['ret'])\n",
    "    \n",
    "    # Create the signal.\n",
    "    if signal_name == 'cumulative return':\n",
    "        df_signal = df_mom.groupby(['permno'])['logret'].rolling(window).sum()\n",
    "    if signal_name == 'lowest return':\n",
    "        df_signal = df_mom.groupby(['permno'])['logret'].rolling(window).min()\n",
    "    if signal_name == 'highest return':\n",
    "        df_signal = df_mom.groupby(['permno'])['logret'].rolling(window).max()\n",
    "    if signal_name == 'volatility':\n",
    "        df_signal = df_mom.groupby(['permno'])['logret'].rolling(window).std()\n",
    "    \n",
    "    df_signal = df_signal.reset_index()\n",
    "    df_signal['signal'] = np.exp(df_signal['logret'])-1\n",
    "    \n",
    "    # Merge the return signal back to the original database.\n",
    "    df1_signal = pd.merge(df_mom.reset_index(), df_signal[['permno','date','signal']], how = 'left', on = ['permno','date'])\n",
    "    \n",
    "    # Skip months between signal and portolio formation.\n",
    "    df1_signal['mom'] = df1_signal.groupby('permno')['signal'].shift(1+skip)\n",
    "\n",
    "    # Sort by date and firm identifier and drop in case there any duplicates.\n",
    "    mom = df1_signal.sort_values(['date','permno']).drop_duplicates()\n",
    "    \n",
    "    # Create the weighting scheme.\n",
    "    if weight_name == 'equal weighted':\n",
    "        mom['w'] = 1\n",
    "    if weight_name == 'market cap weighted':\n",
    "        mom['w'] = mom.groupby('permno')['MCap'].shift(1)\n",
    "    if weight_name == 'volume weighted':\n",
    "        mom['w'] = mom.groupby('permno')['volume'].shift(1)\n",
    "\n",
    "    mom = mom.dropna(subset=['mom','ret', 'MCap'], how = 'any')\n",
    "    \n",
    "    # Create groups each month.\n",
    "    mom['mom_group'] = mom.groupby(['date'])['mom'].transform(lambda x: pd.qcut(x, group, labels = False,duplicates = 'drop'))\n",
    "    mom[['mom_group']] = 'm' + mom[['mom_group']].astype(int).astype(str)\n",
    "    mom = mom[['date','permno','ret','mom_group', 'w']]\n",
    "    mom = mom.sort_values(['permno','date'])\n",
    "    \n",
    "    # Calculate weight and return\n",
    "    def wavg(group, ret_name, weight_name):\n",
    "        d = group[ret_name]\n",
    "        w = group[weight_name]\n",
    "        try:\n",
    "            return (d * w).sum() / w.sum()\n",
    "        except ZeroDivisionError:\n",
    "            return np.nan\n",
    "            \n",
    "    port = mom.groupby(['date','mom_group']).apply(wavg, 'ret', 'w')\n",
    "    port = port.reset_index().rename(columns = {0:'port_ret'})\n",
    "    port = port.set_index(['date','mom_group'])\n",
    "    port = port.unstack(level=-1)\n",
    "        \n",
    "    return port"
   ]
  },
  {
   "cell_type": "code",
   "execution_count": 5,
   "metadata": {},
   "outputs": [],
   "source": [
    "# c) \n",
    "def SR_func(data, window, skip, group, signal_name, weight_name):\n",
    "    momport = momreturns(data, window, skip, group, signal_name, weight_name)\n",
    "    momport['LS'] = momport.iloc[:,-1] - momport.iloc[:,0]\n",
    "    SR = (momport['LS'].mean()/momport['LS'].std())*(12**0.5)\n",
    "    return SR"
   ]
  },
  {
   "cell_type": "code",
   "execution_count": 5,
   "metadata": {},
   "outputs": [
    {
     "data": {
      "text/plain": [
       "0.6611120621335305"
      ]
     },
     "execution_count": 5,
     "metadata": {},
     "output_type": "execute_result"
    }
   ],
   "source": [
    "SR_func(df1, 10, 1, 10, 'cumulative return', 'market cap weighted')"
   ]
  },
  {
   "cell_type": "markdown",
   "metadata": {},
   "source": [
    "### 2. \n",
    "\n",
    "a)We will now show that the code works. Do a for loop, where you skip one month (and not two!), and you grow the lookback period from 1 to 60 months. Record the Sharpe Ratio for each of these lookbacks. Plot the SR of the long-short as a function of the lookback. \n",
    "\n",
    "b) Discuss what you found.\n",
    "\n",
    "\n",
    "\n",
    "\n",
    "\n"
   ]
  },
  {
   "cell_type": "code",
   "execution_count": 8,
   "metadata": {
    "scrolled": false
   },
   "outputs": [
    {
     "data": {
      "image/png": "[encoded data removed]",
      "text/plain": [
       "<Figure size 432x288 with 1 Axes>"
      ]
     },
     "metadata": {
      "needs_background": "light"
     },
     "output_type": "display_data"
    }
   ],
   "source": [
    "SR = []\n",
    "lookback = [1,2,3,6,12,24,36,48,60]\n",
    "for i in list(lookback):\n",
    "    SR.append(SR_func(df1, i, 0, 10, 'cumulative return', 'market cap weighted'))\n",
    "plt.plot(list(lookback), np.array(SR))\n",
    "plt.xlabel('Lookback')\n",
    "plt.ylabel('Sharpe Ratio')\n",
    "plt.show()"
   ]
  },
  {
   "cell_type": "markdown",
   "metadata": {},
   "source": [
    "From the graph, we can see that at first, the Sharpe ratio of the momentum strategy increases as the lookback period increases, and it gets the highest point at around 12. Then it begins to decrease with the increase of the lookback period."
   ]
  },
  {
   "cell_type": "markdown",
   "metadata": {},
   "source": [
    "### 3. \n",
    "\n",
    "a) Repeat what you did in 2, but now skipping 2 months\n",
    "\n",
    "b) Discuss what you found.\n",
    "\n"
   ]
  },
  {
   "cell_type": "code",
   "execution_count": 9,
   "metadata": {
    "scrolled": true
   },
   "outputs": [
    {
     "data": {
      "image/png": "[encoded data removed]",
      "text/plain": [
       "<Figure size 432x288 with 1 Axes>"
      ]
     },
     "metadata": {
      "needs_background": "light"
     },
     "output_type": "display_data"
    }
   ],
   "source": [
    "SR1 = []\n",
    "for i in list(lookback):\n",
    "    SR1.append(SR_func(df1, i, 1, 10, 'cumulative return', 'market cap weighted'))\n",
    "plt.plot(list(lookback), np.array(SR1))\n",
    "plt.xlabel('Lookback')\n",
    "plt.ylabel('Sharpe Ratio')\n",
    "plt.show()"
   ]
  },
  {
   "cell_type": "markdown",
   "metadata": {},
   "source": [
    "From the graph, we can see that the trend of the Sharpe ratio of the strategy that skips 2 months is similar to that of the strategy skips 1 month (the above question). However, the Sharpe ratio of the same lookback period momentum strategy is higher when skipping 2 months."
   ]
  },
  {
   "cell_type": "markdown",
   "metadata": {},
   "source": [
    "### 4. \n",
    "\n",
    "a)Do a for loop, where you do the standard momentum strategy using the following number of groups:  2,3,5,10,20, and 50 . Record the Sharpe Ratio for each of these. Plot the SR as a function of the number of groups. \n",
    "\n",
    "b) Discuss what you found.\n",
    "\n"
   ]
  },
  {
   "cell_type": "code",
   "execution_count": 10,
   "metadata": {
    "scrolled": true
   },
   "outputs": [
    {
     "data": {
      "image/png": "[encoded data removed]",
      "text/plain": [
       "<Figure size 432x288 with 1 Axes>"
      ]
     },
     "metadata": {
      "needs_background": "light"
     },
     "output_type": "display_data"
    }
   ],
   "source": [
    "SR2 = []\n",
    "groups = [2,3,5,10,20,50]\n",
    "for i in list(groups):\n",
    "    SR2.append(SR_func(df1, 10, 1, i, 'cumulative return', 'market cap weighted'))\n",
    "plt.plot(list(groups), np.array(SR2))\n",
    "plt.xlabel('Groups')\n",
    "plt.ylabel('Sharpe Ratio')\n",
    "plt.show()"
   ]
  },
  {
   "cell_type": "markdown",
   "metadata": {},
   "source": [
    "From the graph, we can see that the Sharpe ratio first increases then decreases when we construct more groups. When we divide the data into 10 groups , we can get the highest Sharpe ratio. It is less effective to divided all stocks into more than 10 groups because the portfolio cannot be well diversified. There are less stocks in each group, meaning that there are certain factors that can cause these stocks to gain unwanted exposure to the portfolio from either the long side or the short side."
   ]
  },
  {
   "cell_type": "markdown",
   "metadata": {},
   "source": [
    "### 5. \n",
    "\n",
    "a)Show that your code works, by doing a for loop, where you do the standard momentum strategy using all the three weighting schemes. Record and plot the Sharpe ratio\n",
    "\n",
    "b) Discuss what you found.\n",
    "\n"
   ]
  },
  {
   "cell_type": "code",
   "execution_count": 11,
   "metadata": {
    "scrolled": true
   },
   "outputs": [
    {
     "data": {
      "image/png": "[encoded data removed]",
      "text/plain": [
       "<Figure size 432x288 with 1 Axes>"
      ]
     },
     "metadata": {
      "needs_background": "light"
     },
     "output_type": "display_data"
    }
   ],
   "source": [
    "SR3 = []\n",
    "weight_schemes = ['equal weighted', 'market cap weighted', 'volume weighted']\n",
    "for i in list(weight_schemes):\n",
    "    SR3.append(SR_func(df1, 10, 1, 10, 'cumulative return', i))\n",
    "plt.plot(list(weight_schemes), np.array(SR3))\n",
    "plt.xlabel('Weighting Schemes')\n",
    "plt.ylabel('Sharpe Ratio')\n",
    "plt.show()"
   ]
  },
  {
   "cell_type": "markdown",
   "metadata": {},
   "source": [
    "From the graph, we can see that using volume weighted scheme to construct the momentum strategy will get higher Sharpe ratio."
   ]
  },
  {
   "cell_type": "markdown",
   "metadata": {},
   "source": [
    "### 6. \n",
    "\n",
    "We will now change the fucntion so it does signal weighting as well\n",
    "\n",
    "a) Lets say you have a colum in your dataframe where is the strategy signal, in the case of momentum strategy the skip 2 months, 12 months cumulative return. Lets call that column 'signal'.\n",
    "\n",
    "b) to construct the signal weight you need to substract from the stocks signal the date average signal:\n",
    "\n",
    "Your code should look something like this:\n",
    "\n",
    "df['wsignal']=df.groupby(['date'])['signal'].apply(lambda x: x-x.mean())\n",
    "\n",
    "Tip: It is very important that you drop any date-stocks pairs for which you have \"NAN\"'s before doing this operation otherwise when you take the mean, the nan of a stock will propagate to all stocks.\n",
    "\n",
    "c) once you have this you can simply change to have the long  and the short side\n",
    "\n",
    " - For the long side: df['wsignalL']=np.maximum(0,df['wsignal'])\n",
    " - For the short side: df['wsignalS']=np.maximum(0,-df['wsignal'])\n",
    " \n",
    "d) now you can simply use that variable exactly as you use market cap to weight the different stocks. \n",
    "\n",
    "\n",
    "e) Call the function with 2 groups for the standard momentum signal, show a plot with the Sharpe ratio of the value weighted, the equal weighted and the signal weighted.Discuss\n",
    "\n",
    "\n",
    "f) now do the same with 10 groups, discuss."
   ]
  },
  {
   "cell_type": "code",
   "execution_count": 8,
   "metadata": {},
   "outputs": [],
   "source": [
    "# a), b), c), d) \n",
    "# weight_name: equal weighted, market cap weighted, volume weighted\n",
    "# Signal: cumulative return, lowest return, highest return, volatility\n",
    "\n",
    "def momreturns(data, window, skip, group, signal_name, weight_name):\n",
    "\n",
    "    # Organize the dataset.\n",
    "    df_mom = data[['permno','date','ret', 'MCap','vol','prc']].sort_values(['permno','date']).set_index('date')\n",
    "    df_mom['volume'] = df_mom['vol']*df_mom['prc'].abs()*100/1e6\n",
    "    df_mom['ret'] = df_mom['ret'].fillna(0)\n",
    "    df_mom['logret'] = np.log(1 + df_mom['ret'])\n",
    "    \n",
    "    # Create the signal.\n",
    "    if signal_name == 'cumulative return':\n",
    "        df_signal = df_mom.groupby(['permno'])['logret'].rolling(window).sum()\n",
    "    if signal_name == 'lowest return':\n",
    "        df_signal = df_mom.groupby(['permno'])['logret'].rolling(window).min()\n",
    "    if signal_name == 'highest return':\n",
    "        df_signal = df_mom.groupby(['permno'])['logret'].rolling(window).max()\n",
    "    if signal_name == 'volatility':\n",
    "        df_signal = df_mom.groupby(['permno'])['logret'].rolling(window).std()\n",
    "    \n",
    "    df_signal = df_signal.reset_index()\n",
    "    df_signal['signal'] = np.exp(df_signal['logret'])-1\n",
    "    \n",
    "    # Merge the return signal back to the original database.\n",
    "    df1_signal = pd.merge(df_mom.reset_index(), df_signal[['permno','date','signal']], how = 'left', on = ['permno','date'])\n",
    "    \n",
    "    # Skip months between signal and portolio formation.\n",
    "    df1_signal['mom'] = df1_signal.groupby('permno')['signal'].shift(1+skip)\n",
    "\n",
    "    # Sort by date and firm identifier and drop in case there any duplicates.\n",
    "    mom = df1_signal.sort_values(['date','permno']).drop_duplicates()\n",
    "\n",
    "    # Create the weighting scheme.\n",
    "    if weight_name == 'equal weighted':\n",
    "        mom['w'] = 1\n",
    "    if weight_name == 'market cap weighted':\n",
    "        mom['w'] = mom.groupby('permno')['MCap'].shift(1)\n",
    "    if weight_name == 'volume weighted':\n",
    "        mom['w'] = mom.groupby('permno')['volume'].shift(1)\n",
    "    if weight_name == 'signal weighted':\n",
    "        mom['wsignal'] = df1_signal.groupby(['date'])['signal'].apply(lambda x: x-x.mean())\n",
    "        mom['wsignalL'] = np.maximum(0, mom['wsignal'])\n",
    "        mom['wsignalS'] = np.maximum(0, -mom['wsignal'])\n",
    "        mom['w'] = mom['wsignalL'] - mom['wsignalS']\n",
    "\n",
    "    mom = mom.dropna(subset=['mom','ret', 'MCap'], how = 'any')\n",
    "    \n",
    "    # Create groups each month.\n",
    "    mom['mom_group'] = mom.groupby(['date'])['mom'].transform(lambda x: pd.qcut(x, group, labels = False,duplicates = 'drop'))\n",
    "    mom[['mom_group']] = 'm' + mom[['mom_group']].astype(int).astype(str)\n",
    "    mom = mom[['date','permno','ret','mom_group', 'w']]\n",
    "    mom = mom.sort_values(['permno','date'])\n",
    "    \n",
    "    # Create groups each month.\n",
    "    def wavg(group, ret_name, weight_name):\n",
    "        d = group[ret_name]\n",
    "        w = group[weight_name]\n",
    "        try:\n",
    "            return (d * w).sum() / w.sum()\n",
    "        except ZeroDivisionError:\n",
    "            return np.nan\n",
    "            \n",
    "    port = mom.groupby(['date','mom_group']).apply(wavg, 'ret', 'w')\n",
    "    port = port.reset_index().rename(columns = {0:'port_ret'})\n",
    "    port = port.set_index(['date','mom_group'])\n",
    "    port = port.unstack(level=-1)\n",
    "        \n",
    "    return port"
   ]
  },
  {
   "cell_type": "code",
   "execution_count": 9,
   "metadata": {},
   "outputs": [],
   "source": [
    "def SR_func(data, window, skip, group, signal_name, weight_name):\n",
    "    momport = momreturns(data, window, skip, group, signal_name, weight_name)\n",
    "    momport[\"LS\"] = momport.iloc[:,-1] - momport.iloc[:,0]\n",
    "    SR = (momport[\"LS\"].mean()/momport[\"LS\"].std())*(12**0.5)\n",
    "    return SR"
   ]
  },
  {
   "cell_type": "code",
   "execution_count": 20,
   "metadata": {
    "scrolled": true
   },
   "outputs": [
    {
     "data": {
      "image/png": "[encoded data removed]",
      "text/plain": [
       "<Figure size 432x288 with 1 Axes>"
      ]
     },
     "metadata": {
      "needs_background": "light"
     },
     "output_type": "display_data"
    }
   ],
   "source": [
    "# e) \n",
    "SR4 = []\n",
    "weight_schemes1 = ['equal weighted', 'market cap weighted', 'signal weighted']\n",
    "for i in list(weight_schemes1):\n",
    "    SR4.append(SR_func(df1, 10, 1, 2, \"cumulative return\", i))\n",
    "plt.plot(list(weight_schemes1), np.array(SR4))\n",
    "plt.xlabel('Weighting Schemes')\n",
    "plt.ylabel('Sharpe Ratio')\n",
    "plt.show()"
   ]
  },
  {
   "cell_type": "markdown",
   "metadata": {},
   "source": [
    "From the graph, we can see that using signal weighted scheme to construct the momentum strategy with 2 groups will get higher Sharpe ratio."
   ]
  },
  {
   "cell_type": "code",
   "execution_count": 21,
   "metadata": {
    "scrolled": true
   },
   "outputs": [
    {
     "data": {
      "image/png": "[encoded data removed]",
      "text/plain": [
       "<Figure size 432x288 with 1 Axes>"
      ]
     },
     "metadata": {
      "needs_background": "light"
     },
     "output_type": "display_data"
    }
   ],
   "source": [
    "# f) \n",
    "SR5 = []\n",
    "for i in list(weight_schemes1):\n",
    "    SR5.append(SR_func(df1, 10, 1, 10, \"cumulative return\", i))\n",
    "plt.plot(list(weight_schemes1), np.array(SR5))\n",
    "plt.xlabel('Weighting Schemes')\n",
    "plt.ylabel('Sharpe Ratio')\n",
    "plt.show()"
   ]
  },
  {
   "cell_type": "markdown",
   "metadata": {},
   "source": [
    "From the graph, we can see that using signal weighted scheme to construct the momentum strategy with 10 groups will get higher Sharpe ratio."
   ]
  },
  {
   "cell_type": "markdown",
   "metadata": {},
   "source": [
    "### 7.\n",
    "\n",
    "a) Now change the code to report the Sharpe ratio of all the portfolios\n",
    "\n",
    "b)use the risk-free rate in this data set 'https://www.dropbox.com/s/9346pp2iu5prv8s/MonthlyFactors.csv?dl=1', which is also in blackboard to compute the SR.\n",
    "\n",
    "    - To do that you will need to first constrcut your portfolios, and then in the end, once you have the different portfolios in the columns and the dates in the rows, you will merge on date.\n",
    "    -It is very important that you import the monthly factors data set correctly for the merge to work\n",
    "    - We have done that multiple times by now. If you struggle, in the end of notebook 7 I import exaclty this data set, so you can use that to help you out (Try to do without looking! You can do it!)\n",
    "    -also recall to divide the risk-free by 100 so it is in the same units as out returns\n",
    "    \n",
    "c)Now compute the SR, simply by (mean(R)-mean(Rf))/std(R). Or equivalently, you can also first trasnform the protfolios in excess returns portfolios by substracting the risk-free rate, and then compute the SR     \n",
    "\n",
    "\n",
    "d) now call the code by sorting on last 24 months realized variance by sorting in 10 groups. USe a market cap weighting scheme\n",
    "\n",
    "e) Make a bar plot of the mean and Sharpe ratios for the 10 portfolios.\n",
    "\n",
    "f) discuss"
   ]
  },
  {
   "cell_type": "code",
   "execution_count": 6,
   "metadata": {
    "scrolled": true
   },
   "outputs": [
    {
     "name": "stderr",
     "output_type": "stream",
     "text": [
      "/anaconda3/lib/python3.7/site-packages/pandas/core/reshape/merge.py:522: UserWarning: merging between different levels can give an unintended result (2 levels on the left, 1 on the right)\n",
      "  warnings.warn(msg, UserWarning)\n"
     ]
    },
    {
     "data": {
      "text/html": [
       "<div>\n",
       "<style scoped>\n",
       "    .dataframe tbody tr th:only-of-type {\n",
       "        vertical-align: middle;\n",
       "    }\n",
       "\n",
       "    .dataframe tbody tr th {\n",
       "        vertical-align: top;\n",
       "    }\n",
       "\n",
       "    .dataframe thead th {\n",
       "        text-align: right;\n",
       "    }\n",
       "</style>\n",
       "<table border=\"1\" class=\"dataframe\">\n",
       "  <thead>\n",
       "    <tr style=\"text-align: right;\">\n",
       "      <th></th>\n",
       "      <th>(port_ret, m0)</th>\n",
       "      <th>(port_ret, m1)</th>\n",
       "      <th>(port_ret, m2)</th>\n",
       "      <th>(port_ret, m3)</th>\n",
       "      <th>(port_ret, m4)</th>\n",
       "      <th>(port_ret, m5)</th>\n",
       "      <th>(port_ret, m6)</th>\n",
       "      <th>(port_ret, m7)</th>\n",
       "      <th>(port_ret, m8)</th>\n",
       "      <th>(port_ret, m9)</th>\n",
       "      <th>RF</th>\n",
       "    </tr>\n",
       "  </thead>\n",
       "  <tbody>\n",
       "    <tr>\n",
       "      <th>1965-03-31</th>\n",
       "      <td>-0.016660</td>\n",
       "      <td>-0.012962</td>\n",
       "      <td>-0.004279</td>\n",
       "      <td>-0.010250</td>\n",
       "      <td>-0.001569</td>\n",
       "      <td>0.005031</td>\n",
       "      <td>-0.006458</td>\n",
       "      <td>-0.001294</td>\n",
       "      <td>-0.008447</td>\n",
       "      <td>0.037304</td>\n",
       "      <td>0.0036</td>\n",
       "    </tr>\n",
       "    <tr>\n",
       "      <th>1965-04-30</th>\n",
       "      <td>0.023486</td>\n",
       "      <td>0.017824</td>\n",
       "      <td>0.043911</td>\n",
       "      <td>0.045475</td>\n",
       "      <td>0.041377</td>\n",
       "      <td>0.039640</td>\n",
       "      <td>0.050540</td>\n",
       "      <td>0.027658</td>\n",
       "      <td>0.069640</td>\n",
       "      <td>0.043736</td>\n",
       "      <td>0.0031</td>\n",
       "    </tr>\n",
       "    <tr>\n",
       "      <th>1965-06-30</th>\n",
       "      <td>-0.034049</td>\n",
       "      <td>-0.035707</td>\n",
       "      <td>-0.053300</td>\n",
       "      <td>-0.066436</td>\n",
       "      <td>-0.071310</td>\n",
       "      <td>-0.081094</td>\n",
       "      <td>-0.083606</td>\n",
       "      <td>-0.116549</td>\n",
       "      <td>-0.112088</td>\n",
       "      <td>-0.137425</td>\n",
       "      <td>0.0035</td>\n",
       "    </tr>\n",
       "    <tr>\n",
       "      <th>1965-08-31</th>\n",
       "      <td>0.011511</td>\n",
       "      <td>0.029837</td>\n",
       "      <td>0.027655</td>\n",
       "      <td>0.044969</td>\n",
       "      <td>0.045405</td>\n",
       "      <td>0.068248</td>\n",
       "      <td>0.084559</td>\n",
       "      <td>0.086719</td>\n",
       "      <td>0.099869</td>\n",
       "      <td>0.055796</td>\n",
       "      <td>0.0033</td>\n",
       "    </tr>\n",
       "    <tr>\n",
       "      <th>1965-09-30</th>\n",
       "      <td>0.036398</td>\n",
       "      <td>0.018352</td>\n",
       "      <td>0.036146</td>\n",
       "      <td>0.025685</td>\n",
       "      <td>0.053806</td>\n",
       "      <td>0.047940</td>\n",
       "      <td>0.081114</td>\n",
       "      <td>0.025492</td>\n",
       "      <td>0.066387</td>\n",
       "      <td>0.036213</td>\n",
       "      <td>0.0031</td>\n",
       "    </tr>\n",
       "  </tbody>\n",
       "</table>\n",
       "</div>"
      ],
      "text/plain": [
       "            (port_ret, m0)  (port_ret, m1)  (port_ret, m2)  (port_ret, m3)  \\\n",
       "1965-03-31       -0.016660       -0.012962       -0.004279       -0.010250   \n",
       "1965-04-30        0.023486        0.017824        0.043911        0.045475   \n",
       "1965-06-30       -0.034049       -0.035707       -0.053300       -0.066436   \n",
       "1965-08-31        0.011511        0.029837        0.027655        0.044969   \n",
       "1965-09-30        0.036398        0.018352        0.036146        0.025685   \n",
       "\n",
       "            (port_ret, m4)  (port_ret, m5)  (port_ret, m6)  (port_ret, m7)  \\\n",
       "1965-03-31       -0.001569        0.005031       -0.006458       -0.001294   \n",
       "1965-04-30        0.041377        0.039640        0.050540        0.027658   \n",
       "1965-06-30       -0.071310       -0.081094       -0.083606       -0.116549   \n",
       "1965-08-31        0.045405        0.068248        0.084559        0.086719   \n",
       "1965-09-30        0.053806        0.047940        0.081114        0.025492   \n",
       "\n",
       "            (port_ret, m8)  (port_ret, m9)      RF  \n",
       "1965-03-31       -0.008447        0.037304  0.0036  \n",
       "1965-04-30        0.069640        0.043736  0.0031  \n",
       "1965-06-30       -0.112088       -0.137425  0.0035  \n",
       "1965-08-31        0.099869        0.055796  0.0033  \n",
       "1965-09-30        0.066387        0.036213  0.0031  "
      ]
     },
     "execution_count": 6,
     "metadata": {},
     "output_type": "execute_result"
    }
   ],
   "source": [
    "# a), b), c), d) \n",
    "url2 = 'https://www.dropbox.com/s/9346pp2iu5prv8s/MonthlyFactors.csv?dl=1'\n",
    "Factors = pd.read_csv(url2, index_col = 0, parse_dates = True,na_values = -99)\n",
    "Factors = Factors/100\n",
    "momportfolios = momreturns(df1, 24, 1, 10, 'volatility', 'market cap weighted')\n",
    "momportfolios1 = momportfolios.merge(Factors[['RF']], left_index=True, right_index=True)\n",
    "momportfolios1.head()"
   ]
  },
  {
   "cell_type": "code",
   "execution_count": 23,
   "metadata": {
    "scrolled": true
   },
   "outputs": [
    {
     "data": {
      "image/png": "[encoded data removed]",
      "text/plain": [
       "<Figure size 432x288 with 1 Axes>"
      ]
     },
     "metadata": {
      "needs_background": "light"
     },
     "output_type": "display_data"
    }
   ],
   "source": [
    "# e) \n",
    "mean = []\n",
    "for m in list(range(0, 10)):\n",
    "    mean.append(momportfolios1.iloc[:, m].mean()*12)\n",
    "pd.Series(mean).plot.bar()\n",
    "plt.xlabel('Portfolio')\n",
    "plt.ylabel('Mean')\n",
    "plt.show()"
   ]
  },
  {
   "cell_type": "code",
   "execution_count": 24,
   "metadata": {
    "scrolled": true
   },
   "outputs": [
    {
     "data": {
      "image/png": "[encoded data removed]",
      "text/plain": [
       "<Figure size 432x288 with 1 Axes>"
      ]
     },
     "metadata": {
      "needs_background": "light"
     },
     "output_type": "display_data"
    }
   ],
   "source": [
    "# e) \n",
    "SRrf = []\n",
    "for m in list(range(0, 10)):\n",
    "    SRrf.append(((momportfolios1.iloc[:, m].mean() - momportfolios1.iloc[:, -1].mean())/momportfolios1.iloc[:, m].std())*12**0.5)\n",
    "pd.Series(SRrf).plot.bar()\n",
    "plt.xlabel('Portfolio')\n",
    "plt.ylabel('Sharpe Ratio')\n",
    "plt.show()"
   ]
  },
  {
   "cell_type": "markdown",
   "metadata": {},
   "source": [
    "From the bar chart, we can see that the Sharpe ratio of Group 0 is much higher than that of Group 9. Because we use volatility as signal, groups with lower realized variance can give higher Sharpe Ratios."
   ]
  },
  {
   "cell_type": "markdown",
   "metadata": {},
   "source": [
    "### 8. \n",
    "\n",
    "a) Now import also the market portfolio from the same monthlyfactors data set.\n",
    "\n",
    "b) Now your function should output the time-series of the excess reutrns on your portfolios and the excess returns on the market portfolio. That is, if you choose ngroups=10, and you have 600 months in your sample, you data frame shoudl be 600 by 11.\n",
    "\n",
    "c) call the function for the standard value weighted momentum strategy\n",
    "\n",
    "\n",
    "d) we will now construct the market betas of these momentum portfolios.\n",
    "\n",
    "  - You can do this by using a stats package such as :https://www.statsmodels.org/stable/index.html, wich we will learn how to use next week and I know that you already have use in the stats class\n",
    "  \n",
    "  - Or you can do this old school by simply computing the covariance or each portfolio with the market (all in excess returns), and divide it by the market variance.\n",
    "  \n",
    "  - There are several ways of doign this. The easiest is to do a for loop the loops across your portfolios\n",
    "\n",
    "e) In the end the functions should output a dataframe that has the identity of the protfolios (0,1,2,...), the excess return, the Sharpe ratio, and the market-beta of each of the portfolios (everything as always annualized, note that beta is \"frequency-free\" so we don't need to do anything with it. Do you know why?)\n",
    "\n",
    "f) make a plot that have has market beta of each portfolio in the x axis, and the average excess return in the y-axis\n",
    "\n",
    "\n",
    "g) Discuss.\n",
    "\n",
    "\n"
   ]
  },
  {
   "cell_type": "code",
   "execution_count": 20,
   "metadata": {},
   "outputs": [
    {
     "name": "stderr",
     "output_type": "stream",
     "text": [
      "/anaconda3/lib/python3.7/site-packages/pandas/core/reshape/merge.py:522: UserWarning: merging between different levels can give an unintended result (2 levels on the left, 1 on the right)\n",
      "  warnings.warn(msg, UserWarning)\n"
     ]
    },
    {
     "data": {
      "text/html": [
       "<div>\n",
       "<style scoped>\n",
       "    .dataframe tbody tr th:only-of-type {\n",
       "        vertical-align: middle;\n",
       "    }\n",
       "\n",
       "    .dataframe tbody tr th {\n",
       "        vertical-align: top;\n",
       "    }\n",
       "\n",
       "    .dataframe thead th {\n",
       "        text-align: right;\n",
       "    }\n",
       "</style>\n",
       "<table border=\"1\" class=\"dataframe\">\n",
       "  <thead>\n",
       "    <tr style=\"text-align: right;\">\n",
       "      <th></th>\n",
       "      <th>(port_ret, m0)</th>\n",
       "      <th>(port_ret, m1)</th>\n",
       "      <th>(port_ret, m2)</th>\n",
       "      <th>(port_ret, m3)</th>\n",
       "      <th>(port_ret, m4)</th>\n",
       "      <th>(port_ret, m5)</th>\n",
       "      <th>(port_ret, m6)</th>\n",
       "      <th>(port_ret, m7)</th>\n",
       "      <th>(port_ret, m8)</th>\n",
       "      <th>(port_ret, m9)</th>\n",
       "      <th>MKT</th>\n",
       "      <th>RF</th>\n",
       "    </tr>\n",
       "  </thead>\n",
       "  <tbody>\n",
       "    <tr>\n",
       "      <th>1963-12-31</th>\n",
       "      <td>-0.035481</td>\n",
       "      <td>-0.015968</td>\n",
       "      <td>0.021651</td>\n",
       "      <td>0.014096</td>\n",
       "      <td>0.037668</td>\n",
       "      <td>0.023429</td>\n",
       "      <td>0.030959</td>\n",
       "      <td>0.020155</td>\n",
       "      <td>0.017672</td>\n",
       "      <td>0.009814</td>\n",
       "      <td>0.0183</td>\n",
       "      <td>0.0029</td>\n",
       "    </tr>\n",
       "    <tr>\n",
       "      <th>1964-01-31</th>\n",
       "      <td>0.010275</td>\n",
       "      <td>0.009359</td>\n",
       "      <td>0.004001</td>\n",
       "      <td>0.011747</td>\n",
       "      <td>0.011843</td>\n",
       "      <td>0.003570</td>\n",
       "      <td>0.030463</td>\n",
       "      <td>0.034424</td>\n",
       "      <td>0.032820</td>\n",
       "      <td>0.019888</td>\n",
       "      <td>0.0224</td>\n",
       "      <td>0.0030</td>\n",
       "    </tr>\n",
       "    <tr>\n",
       "      <th>1964-03-31</th>\n",
       "      <td>0.009109</td>\n",
       "      <td>0.022444</td>\n",
       "      <td>0.006684</td>\n",
       "      <td>0.019171</td>\n",
       "      <td>0.006719</td>\n",
       "      <td>0.003687</td>\n",
       "      <td>0.022052</td>\n",
       "      <td>0.018231</td>\n",
       "      <td>0.019149</td>\n",
       "      <td>0.036939</td>\n",
       "      <td>0.0141</td>\n",
       "      <td>0.0031</td>\n",
       "    </tr>\n",
       "    <tr>\n",
       "      <th>1964-04-30</th>\n",
       "      <td>-0.033730</td>\n",
       "      <td>-0.007850</td>\n",
       "      <td>0.020421</td>\n",
       "      <td>-0.004417</td>\n",
       "      <td>0.005935</td>\n",
       "      <td>0.012653</td>\n",
       "      <td>-0.009737</td>\n",
       "      <td>-0.002898</td>\n",
       "      <td>-0.003974</td>\n",
       "      <td>-0.008196</td>\n",
       "      <td>0.0010</td>\n",
       "      <td>0.0029</td>\n",
       "    </tr>\n",
       "    <tr>\n",
       "      <th>1964-06-30</th>\n",
       "      <td>0.002585</td>\n",
       "      <td>0.017581</td>\n",
       "      <td>0.007872</td>\n",
       "      <td>0.017363</td>\n",
       "      <td>0.015190</td>\n",
       "      <td>0.016270</td>\n",
       "      <td>0.011412</td>\n",
       "      <td>0.003692</td>\n",
       "      <td>0.002599</td>\n",
       "      <td>0.005834</td>\n",
       "      <td>0.0127</td>\n",
       "      <td>0.0030</td>\n",
       "    </tr>\n",
       "  </tbody>\n",
       "</table>\n",
       "</div>"
      ],
      "text/plain": [
       "            (port_ret, m0)  (port_ret, m1)  (port_ret, m2)  (port_ret, m3)  \\\n",
       "1963-12-31       -0.035481       -0.015968        0.021651        0.014096   \n",
       "1964-01-31        0.010275        0.009359        0.004001        0.011747   \n",
       "1964-03-31        0.009109        0.022444        0.006684        0.019171   \n",
       "1964-04-30       -0.033730       -0.007850        0.020421       -0.004417   \n",
       "1964-06-30        0.002585        0.017581        0.007872        0.017363   \n",
       "\n",
       "            (port_ret, m4)  (port_ret, m5)  (port_ret, m6)  (port_ret, m7)  \\\n",
       "1963-12-31        0.037668        0.023429        0.030959        0.020155   \n",
       "1964-01-31        0.011843        0.003570        0.030463        0.034424   \n",
       "1964-03-31        0.006719        0.003687        0.022052        0.018231   \n",
       "1964-04-30        0.005935        0.012653       -0.009737       -0.002898   \n",
       "1964-06-30        0.015190        0.016270        0.011412        0.003692   \n",
       "\n",
       "            (port_ret, m8)  (port_ret, m9)     MKT      RF  \n",
       "1963-12-31        0.017672        0.009814  0.0183  0.0029  \n",
       "1964-01-31        0.032820        0.019888  0.0224  0.0030  \n",
       "1964-03-31        0.019149        0.036939  0.0141  0.0031  \n",
       "1964-04-30       -0.003974       -0.008196  0.0010  0.0029  \n",
       "1964-06-30        0.002599        0.005834  0.0127  0.0030  "
      ]
     },
     "execution_count": 20,
     "metadata": {},
     "output_type": "execute_result"
    }
   ],
   "source": [
    "# a), b), c) \n",
    "momportfolios2 = momreturns(df1, 10, 1, 10, 'cumulative return', 'market cap weighted')\n",
    "momportfolios3 = momportfolios2.merge(Factors[['MKT', 'RF']], left_index=True, right_index=True)\n",
    "momportfolios3 = momportfolios3.iloc[:, 0:-1].subtract(momportfolios3.RF, axis = 0)\n",
    "momportfolios3 = momportfolios3.merge(Factors[['RF']], left_index=True, right_index=True)\n",
    "momportfolios3.head()"
   ]
  },
  {
   "cell_type": "code",
   "execution_count": 28,
   "metadata": {
    "scrolled": false
   },
   "outputs": [
    {
     "data": {
      "text/html": [
       "<div>\n",
       "<style scoped>\n",
       "    .dataframe tbody tr th:only-of-type {\n",
       "        vertical-align: middle;\n",
       "    }\n",
       "\n",
       "    .dataframe tbody tr th {\n",
       "        vertical-align: top;\n",
       "    }\n",
       "\n",
       "    .dataframe thead th {\n",
       "        text-align: right;\n",
       "    }\n",
       "</style>\n",
       "<table border=\"1\" class=\"dataframe\">\n",
       "  <thead>\n",
       "    <tr style=\"text-align: right;\">\n",
       "      <th></th>\n",
       "      <th>Avg. Excess Return</th>\n",
       "      <th>Sharpe Ratio</th>\n",
       "      <th>Market Beta</th>\n",
       "    </tr>\n",
       "    <tr>\n",
       "      <th>Portfolio</th>\n",
       "      <th></th>\n",
       "      <th></th>\n",
       "      <th></th>\n",
       "    </tr>\n",
       "  </thead>\n",
       "  <tbody>\n",
       "    <tr>\n",
       "      <th>0</th>\n",
       "      <td>-0.058856</td>\n",
       "      <td>-0.173665</td>\n",
       "      <td>1.661823</td>\n",
       "    </tr>\n",
       "    <tr>\n",
       "      <th>1</th>\n",
       "      <td>-0.002071</td>\n",
       "      <td>-0.007876</td>\n",
       "      <td>1.390420</td>\n",
       "    </tr>\n",
       "    <tr>\n",
       "      <th>2</th>\n",
       "      <td>0.043016</td>\n",
       "      <td>0.189546</td>\n",
       "      <td>1.235914</td>\n",
       "    </tr>\n",
       "    <tr>\n",
       "      <th>3</th>\n",
       "      <td>0.060302</td>\n",
       "      <td>0.321450</td>\n",
       "      <td>1.055092</td>\n",
       "    </tr>\n",
       "    <tr>\n",
       "      <th>4</th>\n",
       "      <td>0.052085</td>\n",
       "      <td>0.302050</td>\n",
       "      <td>1.015029</td>\n",
       "    </tr>\n",
       "    <tr>\n",
       "      <th>5</th>\n",
       "      <td>0.052848</td>\n",
       "      <td>0.332201</td>\n",
       "      <td>0.961919</td>\n",
       "    </tr>\n",
       "    <tr>\n",
       "      <th>6</th>\n",
       "      <td>0.062678</td>\n",
       "      <td>0.396855</td>\n",
       "      <td>0.962189</td>\n",
       "    </tr>\n",
       "    <tr>\n",
       "      <th>7</th>\n",
       "      <td>0.068376</td>\n",
       "      <td>0.430797</td>\n",
       "      <td>0.947045</td>\n",
       "    </tr>\n",
       "    <tr>\n",
       "      <th>8</th>\n",
       "      <td>0.093438</td>\n",
       "      <td>0.522993</td>\n",
       "      <td>1.021453</td>\n",
       "    </tr>\n",
       "    <tr>\n",
       "      <th>9</th>\n",
       "      <td>0.133879</td>\n",
       "      <td>0.550333</td>\n",
       "      <td>1.233130</td>\n",
       "    </tr>\n",
       "  </tbody>\n",
       "</table>\n",
       "</div>"
      ],
      "text/plain": [
       "           Avg. Excess Return  Sharpe Ratio  Market Beta\n",
       "Portfolio                                               \n",
       "0                   -0.058856     -0.173665     1.661823\n",
       "1                   -0.002071     -0.007876     1.390420\n",
       "2                    0.043016      0.189546     1.235914\n",
       "3                    0.060302      0.321450     1.055092\n",
       "4                    0.052085      0.302050     1.015029\n",
       "5                    0.052848      0.332201     0.961919\n",
       "6                    0.062678      0.396855     0.962189\n",
       "7                    0.068376      0.430797     0.947045\n",
       "8                    0.093438      0.522993     1.021453\n",
       "9                    0.133879      0.550333     1.233130"
      ]
     },
     "metadata": {},
     "output_type": "display_data"
    },
    {
     "data": {
      "text/plain": [
       "<matplotlib.axes._subplots.AxesSubplot at 0x1c2f30d630>"
      ]
     },
     "execution_count": 28,
     "metadata": {},
     "output_type": "execute_result"
    },
    {
     "data": {
      "image/png": "[encoded data removed]",
      "text/plain": [
       "<Figure size 432x288 with 1 Axes>"
      ]
     },
     "metadata": {
      "needs_background": "light"
     },
     "output_type": "display_data"
    }
   ],
   "source": [
    "# d), e) \n",
    "beta = []\n",
    "for m in list(range(0, 10)):\n",
    "    y = momportfolios3.iloc[:, m]\n",
    "    x = momportfolios3[['MKT']]\n",
    "    x = sm.add_constant(x)\n",
    "    results = sm.OLS(y,x).fit()\n",
    "    beta.append(results.params[1])\n",
    "\n",
    "AvgER = []\n",
    "for m in list(range(0, 10)):\n",
    "    AvgER.append(momportfolios3.iloc[:, m].mean()*12)\n",
    "\n",
    "SRrf1 = []\n",
    "for m in list(range(0, 10)):\n",
    "    SRrf1.append((momportfolios3.iloc[:, m].mean()/(momportfolios3.iloc[:, m] + momportfolios3.iloc[:, -1]).std())*12**0.5)\n",
    "\n",
    "momport3_summary = pd.DataFrame({'Avg. Excess Return': np.array(AvgER),\n",
    "                                 'Sharpe Ratio': np.array(SRrf1), \n",
    "                                 'Market Beta': np.array(beta)}, index = list(range(0,10)))\n",
    "momport3_summary.index.name = \"Portfolio\"\n",
    "display(momport3_summary)\n",
    "momport3_summary.plot()"
   ]
  },
  {
   "cell_type": "code",
   "execution_count": 29,
   "metadata": {
    "scrolled": true
   },
   "outputs": [
    {
     "data": {
      "image/png": "[encoded data removed]",
      "text/plain": [
       "<Figure size 432x288 with 1 Axes>"
      ]
     },
     "metadata": {
      "needs_background": "light"
     },
     "output_type": "display_data"
    }
   ],
   "source": [
    "# f) \n",
    "plt.scatter(momport3_summary[['Market Beta']], momport3_summary[['Avg. Excess Return']])\n",
    "plt.xlabel('Market Beta')\n",
    "plt.ylabel('Avg. Excess Return')\n",
    "plt.show()"
   ]
  },
  {
   "cell_type": "markdown",
   "metadata": {},
   "source": [
    "From the plot, we can see that groups with higher risk and thus higher market bate have lower average excess return."
   ]
  }
 ],
 "metadata": {
  "kernelspec": {
   "display_name": "Python 3",
   "language": "python",
   "name": "python3"
  },
  "language_info": {
   "codemirror_mode": {
    "name": "ipython",
    "version": 3
   },
   "file_extension": ".py",
   "mimetype": "text/x-python",
   "name": "python",
   "nbconvert_exporter": "python",
   "pygments_lexer": "ipython3",
   "version": "3.7.3"
  }
 },
 "nbformat": 4,
 "nbformat_minor": 2
}
