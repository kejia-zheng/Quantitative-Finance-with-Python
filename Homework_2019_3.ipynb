{
 "cells": [
  {
   "cell_type": "markdown",
   "metadata": {},
   "source": [
    "# Homework 3"
   ]
  },
  {
   "cell_type": "markdown",
   "metadata": {},
   "source": [
    "# Part I"
   ]
  },
  {
   "cell_type": "markdown",
   "metadata": {},
   "source": [
    "### 1. \n",
    "\n",
    " - Using the file \"https://www.dropbox.com/s/4p74ya84niak743/Homework2.xlsx?dl=1\", form equal-weight portfolios using the first 5, first 10, first 25, and all 50 stocks. \n",
    "\n",
    "- be careful to import this correctly\n",
    "- pay attention in the units and make sure to interpret this correctly\n",
    "\n",
    "- Calculate the sample mean and standard deviation of returns for each of the four equal-weight portfolios. \n",
    "- Plot estimated standard deviations as a function of the number of stocks in the equal-weight portfolio. \n",
    "\n"
   ]
  },
  {
   "cell_type": "code",
   "execution_count": 1,
   "metadata": {
    "scrolled": true
   },
   "outputs": [],
   "source": [
    "import numpy as np\n",
    "import pandas as pd\n",
    "import matplotlib.pyplot as plt\n",
    "%matplotlib inline\n",
    "from scipy.stats import norm"
   ]
  },
  {
   "cell_type": "code",
   "execution_count": 2,
   "metadata": {},
   "outputs": [
    {
     "data": {
      "text/html": [
       "<div>\n",
       "<style scoped>\n",
       "    .dataframe tbody tr th:only-of-type {\n",
       "        vertical-align: middle;\n",
       "    }\n",
       "\n",
       "    .dataframe tbody tr th {\n",
       "        vertical-align: top;\n",
       "    }\n",
       "\n",
       "    .dataframe thead th {\n",
       "        text-align: right;\n",
       "    }\n",
       "</style>\n",
       "<table border=\"1\" class=\"dataframe\">\n",
       "  <thead>\n",
       "    <tr style=\"text-align: right;\">\n",
       "      <th></th>\n",
       "      <th>CTL</th>\n",
       "      <th>T</th>\n",
       "      <th>CSCO</th>\n",
       "      <th>FCX</th>\n",
       "      <th>XL</th>\n",
       "      <th>IVZ</th>\n",
       "      <th>AMT</th>\n",
       "      <th>WHR</th>\n",
       "      <th>IR</th>\n",
       "      <th>WFT</th>\n",
       "      <th>...</th>\n",
       "      <th>SWK</th>\n",
       "      <th>DVN</th>\n",
       "      <th>TMO</th>\n",
       "      <th>PEP</th>\n",
       "      <th>LNC</th>\n",
       "      <th>EMR</th>\n",
       "      <th>MLM</th>\n",
       "      <th>CCI</th>\n",
       "      <th>NU</th>\n",
       "      <th>Market</th>\n",
       "    </tr>\n",
       "    <tr>\n",
       "      <th>date</th>\n",
       "      <th></th>\n",
       "      <th></th>\n",
       "      <th></th>\n",
       "      <th></th>\n",
       "      <th></th>\n",
       "      <th></th>\n",
       "      <th></th>\n",
       "      <th></th>\n",
       "      <th></th>\n",
       "      <th></th>\n",
       "      <th></th>\n",
       "      <th></th>\n",
       "      <th></th>\n",
       "      <th></th>\n",
       "      <th></th>\n",
       "      <th></th>\n",
       "      <th></th>\n",
       "      <th></th>\n",
       "      <th></th>\n",
       "      <th></th>\n",
       "      <th></th>\n",
       "    </tr>\n",
       "  </thead>\n",
       "  <tbody>\n",
       "    <tr>\n",
       "      <th>2000-01</th>\n",
       "      <td>-18.4697</td>\n",
       "      <td>-11.5513</td>\n",
       "      <td>2.2170</td>\n",
       "      <td>-17.4556</td>\n",
       "      <td>-12.5301</td>\n",
       "      <td>-4.0929</td>\n",
       "      <td>17.3824</td>\n",
       "      <td>-10.4707</td>\n",
       "      <td>-14.5289</td>\n",
       "      <td>-5.9468</td>\n",
       "      <td>...</td>\n",
       "      <td>-16.5975</td>\n",
       "      <td>6.8441</td>\n",
       "      <td>15.4167</td>\n",
       "      <td>-3.1915</td>\n",
       "      <td>-6.9312</td>\n",
       "      <td>-4.0305</td>\n",
       "      <td>2.4390</td>\n",
       "      <td>-1.5564</td>\n",
       "      <td>-0.3040</td>\n",
       "      <td>-3.9612</td>\n",
       "    </tr>\n",
       "    <tr>\n",
       "      <th>2000-02</th>\n",
       "      <td>-12.9450</td>\n",
       "      <td>-11.2245</td>\n",
       "      <td>20.7192</td>\n",
       "      <td>-21.1470</td>\n",
       "      <td>-9.8898</td>\n",
       "      <td>5.3057</td>\n",
       "      <td>37.2822</td>\n",
       "      <td>-6.1760</td>\n",
       "      <td>-18.2311</td>\n",
       "      <td>19.8003</td>\n",
       "      <td>...</td>\n",
       "      <td>-8.4577</td>\n",
       "      <td>6.0498</td>\n",
       "      <td>-9.7473</td>\n",
       "      <td>-5.8608</td>\n",
       "      <td>-25.2115</td>\n",
       "      <td>-16.6039</td>\n",
       "      <td>-15.1667</td>\n",
       "      <td>1.9763</td>\n",
       "      <td>-7.7439</td>\n",
       "      <td>3.1777</td>\n",
       "    </tr>\n",
       "    <tr>\n",
       "      <th>2000-03</th>\n",
       "      <td>10.5502</td>\n",
       "      <td>10.6732</td>\n",
       "      <td>16.9740</td>\n",
       "      <td>-12.2727</td>\n",
       "      <td>36.9397</td>\n",
       "      <td>24.4250</td>\n",
       "      <td>0.2538</td>\n",
       "      <td>7.9402</td>\n",
       "      <td>15.4976</td>\n",
       "      <td>30.0000</td>\n",
       "      <td>...</td>\n",
       "      <td>15.6304</td>\n",
       "      <td>30.5034</td>\n",
       "      <td>30.4000</td>\n",
       "      <td>8.9805</td>\n",
       "      <td>21.2670</td>\n",
       "      <td>16.5981</td>\n",
       "      <td>33.8028</td>\n",
       "      <td>17.4419</td>\n",
       "      <td>14.2857</td>\n",
       "      <td>5.3500</td>\n",
       "    </tr>\n",
       "    <tr>\n",
       "      <th>2000-04</th>\n",
       "      <td>-34.0067</td>\n",
       "      <td>4.6083</td>\n",
       "      <td>-10.3274</td>\n",
       "      <td>-20.2073</td>\n",
       "      <td>-13.9955</td>\n",
       "      <td>0.9670</td>\n",
       "      <td>-5.6962</td>\n",
       "      <td>11.0874</td>\n",
       "      <td>6.0734</td>\n",
       "      <td>2.7153</td>\n",
       "      <td>...</td>\n",
       "      <td>11.8483</td>\n",
       "      <td>-0.9009</td>\n",
       "      <td>-4.9080</td>\n",
       "      <td>5.1971</td>\n",
       "      <td>4.7836</td>\n",
       "      <td>3.2941</td>\n",
       "      <td>11.5789</td>\n",
       "      <td>1.3201</td>\n",
       "      <td>0.0000</td>\n",
       "      <td>-5.9530</td>\n",
       "    </tr>\n",
       "    <tr>\n",
       "      <th>2000-05</th>\n",
       "      <td>10.3980</td>\n",
       "      <td>-0.2853</td>\n",
       "      <td>-17.8724</td>\n",
       "      <td>-4.5455</td>\n",
       "      <td>25.8793</td>\n",
       "      <td>-8.7719</td>\n",
       "      <td>-20.2685</td>\n",
       "      <td>-12.4338</td>\n",
       "      <td>-2.5672</td>\n",
       "      <td>6.0000</td>\n",
       "      <td>...</td>\n",
       "      <td>-8.8983</td>\n",
       "      <td>24.2857</td>\n",
       "      <td>-4.1935</td>\n",
       "      <td>11.4140</td>\n",
       "      <td>11.3106</td>\n",
       "      <td>8.1686</td>\n",
       "      <td>-7.4198</td>\n",
       "      <td>-31.7590</td>\n",
       "      <td>3.3721</td>\n",
       "      <td>-3.8871</td>\n",
       "    </tr>\n",
       "  </tbody>\n",
       "</table>\n",
       "<p>5 rows × 51 columns</p>\n",
       "</div>"
      ],
      "text/plain": [
       "             CTL        T     CSCO      FCX       XL      IVZ      AMT  \\\n",
       "date                                                                     \n",
       "2000-01 -18.4697 -11.5513   2.2170 -17.4556 -12.5301  -4.0929  17.3824   \n",
       "2000-02 -12.9450 -11.2245  20.7192 -21.1470  -9.8898   5.3057  37.2822   \n",
       "2000-03  10.5502  10.6732  16.9740 -12.2727  36.9397  24.4250   0.2538   \n",
       "2000-04 -34.0067   4.6083 -10.3274 -20.2073 -13.9955   0.9670  -5.6962   \n",
       "2000-05  10.3980  -0.2853 -17.8724  -4.5455  25.8793  -8.7719 -20.2685   \n",
       "\n",
       "             WHR       IR      WFT  ...      SWK      DVN      TMO      PEP  \\\n",
       "date                                ...                                       \n",
       "2000-01 -10.4707 -14.5289  -5.9468  ... -16.5975   6.8441  15.4167  -3.1915   \n",
       "2000-02  -6.1760 -18.2311  19.8003  ...  -8.4577   6.0498  -9.7473  -5.8608   \n",
       "2000-03   7.9402  15.4976  30.0000  ...  15.6304  30.5034  30.4000   8.9805   \n",
       "2000-04  11.0874   6.0734   2.7153  ...  11.8483  -0.9009  -4.9080   5.1971   \n",
       "2000-05 -12.4338  -2.5672   6.0000  ...  -8.8983  24.2857  -4.1935  11.4140   \n",
       "\n",
       "             LNC      EMR      MLM      CCI       NU  Market  \n",
       "date                                                          \n",
       "2000-01  -6.9312  -4.0305   2.4390  -1.5564  -0.3040 -3.9612  \n",
       "2000-02 -25.2115 -16.6039 -15.1667   1.9763  -7.7439  3.1777  \n",
       "2000-03  21.2670  16.5981  33.8028  17.4419  14.2857  5.3500  \n",
       "2000-04   4.7836   3.2941  11.5789   1.3201   0.0000 -5.9530  \n",
       "2000-05  11.3106   8.1686  -7.4198 -31.7590   3.3721 -3.8871  \n",
       "\n",
       "[5 rows x 51 columns]"
      ]
     },
     "execution_count": 2,
     "metadata": {},
     "output_type": "execute_result"
    }
   ],
   "source": [
    "df = pd.read_excel(\"https://www.dropbox.com/s/4p74ya84niak743/Homework2.xlsx?dl=1\", index_col = 0)\n",
    "df.index = pd.to_datetime(df.index, format = \"%Y%m\", errors = \"ignore\").to_period(\"M\")\n",
    "df.head()"
   ]
  },
  {
   "cell_type": "code",
   "execution_count": 3,
   "metadata": {
    "scrolled": false
   },
   "outputs": [
    {
     "data": {
      "text/html": [
       "<div>\n",
       "<style scoped>\n",
       "    .dataframe tbody tr th:only-of-type {\n",
       "        vertical-align: middle;\n",
       "    }\n",
       "\n",
       "    .dataframe tbody tr th {\n",
       "        vertical-align: top;\n",
       "    }\n",
       "\n",
       "    .dataframe thead th {\n",
       "        text-align: right;\n",
       "    }\n",
       "</style>\n",
       "<table border=\"1\" class=\"dataframe\">\n",
       "  <thead>\n",
       "    <tr style=\"text-align: right;\">\n",
       "      <th></th>\n",
       "      <th>1</th>\n",
       "      <th>2</th>\n",
       "      <th>3</th>\n",
       "      <th>4</th>\n",
       "      <th>5</th>\n",
       "      <th>6</th>\n",
       "      <th>7</th>\n",
       "      <th>8</th>\n",
       "      <th>9</th>\n",
       "      <th>10</th>\n",
       "      <th>...</th>\n",
       "      <th>41</th>\n",
       "      <th>42</th>\n",
       "      <th>43</th>\n",
       "      <th>44</th>\n",
       "      <th>45</th>\n",
       "      <th>46</th>\n",
       "      <th>47</th>\n",
       "      <th>48</th>\n",
       "      <th>49</th>\n",
       "      <th>50</th>\n",
       "    </tr>\n",
       "    <tr>\n",
       "      <th>date</th>\n",
       "      <th></th>\n",
       "      <th></th>\n",
       "      <th></th>\n",
       "      <th></th>\n",
       "      <th></th>\n",
       "      <th></th>\n",
       "      <th></th>\n",
       "      <th></th>\n",
       "      <th></th>\n",
       "      <th></th>\n",
       "      <th></th>\n",
       "      <th></th>\n",
       "      <th></th>\n",
       "      <th></th>\n",
       "      <th></th>\n",
       "      <th></th>\n",
       "      <th></th>\n",
       "      <th></th>\n",
       "      <th></th>\n",
       "      <th></th>\n",
       "      <th></th>\n",
       "    </tr>\n",
       "  </thead>\n",
       "  <tbody>\n",
       "    <tr>\n",
       "      <th>2000-01</th>\n",
       "      <td>-18.4697</td>\n",
       "      <td>-15.01050</td>\n",
       "      <td>-9.268000</td>\n",
       "      <td>-11.314900</td>\n",
       "      <td>-11.55794</td>\n",
       "      <td>-10.313767</td>\n",
       "      <td>-6.357171</td>\n",
       "      <td>-6.871363</td>\n",
       "      <td>-7.722200</td>\n",
       "      <td>-7.54466</td>\n",
       "      <td>...</td>\n",
       "      <td>-4.214020</td>\n",
       "      <td>-4.508864</td>\n",
       "      <td>-4.244842</td>\n",
       "      <td>-3.797989</td>\n",
       "      <td>-3.784511</td>\n",
       "      <td>-3.852917</td>\n",
       "      <td>-3.856696</td>\n",
       "      <td>-3.725535</td>\n",
       "      <td>-3.681267</td>\n",
       "      <td>-3.613722</td>\n",
       "    </tr>\n",
       "    <tr>\n",
       "      <th>2000-02</th>\n",
       "      <td>-12.9450</td>\n",
       "      <td>-12.08475</td>\n",
       "      <td>-1.150100</td>\n",
       "      <td>-6.149325</td>\n",
       "      <td>-6.89742</td>\n",
       "      <td>-4.863567</td>\n",
       "      <td>1.157257</td>\n",
       "      <td>0.240600</td>\n",
       "      <td>-1.811811</td>\n",
       "      <td>0.34940</td>\n",
       "      <td>...</td>\n",
       "      <td>-2.993239</td>\n",
       "      <td>-3.123345</td>\n",
       "      <td>-2.910016</td>\n",
       "      <td>-3.065409</td>\n",
       "      <td>-3.127529</td>\n",
       "      <td>-3.607615</td>\n",
       "      <td>-3.884132</td>\n",
       "      <td>-4.119185</td>\n",
       "      <td>-3.994788</td>\n",
       "      <td>-4.069770</td>\n",
       "    </tr>\n",
       "    <tr>\n",
       "      <th>2000-03</th>\n",
       "      <td>10.5502</td>\n",
       "      <td>10.61170</td>\n",
       "      <td>12.732467</td>\n",
       "      <td>6.481175</td>\n",
       "      <td>12.57288</td>\n",
       "      <td>14.548233</td>\n",
       "      <td>12.506171</td>\n",
       "      <td>11.935425</td>\n",
       "      <td>12.331222</td>\n",
       "      <td>14.09810</td>\n",
       "      <td>...</td>\n",
       "      <td>12.553683</td>\n",
       "      <td>12.626938</td>\n",
       "      <td>13.042670</td>\n",
       "      <td>13.437155</td>\n",
       "      <td>13.338118</td>\n",
       "      <td>13.510485</td>\n",
       "      <td>13.576179</td>\n",
       "      <td>13.997567</td>\n",
       "      <td>14.067859</td>\n",
       "      <td>14.072216</td>\n",
       "    </tr>\n",
       "    <tr>\n",
       "      <th>2000-04</th>\n",
       "      <td>-34.0067</td>\n",
       "      <td>-14.69920</td>\n",
       "      <td>-13.241933</td>\n",
       "      <td>-14.983275</td>\n",
       "      <td>-14.78572</td>\n",
       "      <td>-12.160267</td>\n",
       "      <td>-11.236829</td>\n",
       "      <td>-8.446300</td>\n",
       "      <td>-6.833000</td>\n",
       "      <td>-5.87817</td>\n",
       "      <td>...</td>\n",
       "      <td>0.589590</td>\n",
       "      <td>0.857655</td>\n",
       "      <td>0.816758</td>\n",
       "      <td>0.686650</td>\n",
       "      <td>0.786882</td>\n",
       "      <td>0.873767</td>\n",
       "      <td>0.925264</td>\n",
       "      <td>1.147215</td>\n",
       "      <td>1.150743</td>\n",
       "      <td>1.127728</td>\n",
       "    </tr>\n",
       "    <tr>\n",
       "      <th>2000-05</th>\n",
       "      <td>10.3980</td>\n",
       "      <td>5.05635</td>\n",
       "      <td>-2.586567</td>\n",
       "      <td>-3.076300</td>\n",
       "      <td>2.71482</td>\n",
       "      <td>0.800367</td>\n",
       "      <td>-2.209471</td>\n",
       "      <td>-3.487513</td>\n",
       "      <td>-3.385256</td>\n",
       "      <td>-2.44673</td>\n",
       "      <td>...</td>\n",
       "      <td>1.189717</td>\n",
       "      <td>0.949526</td>\n",
       "      <td>1.492228</td>\n",
       "      <td>1.363007</td>\n",
       "      <td>1.586362</td>\n",
       "      <td>1.797759</td>\n",
       "      <td>1.933309</td>\n",
       "      <td>1.738452</td>\n",
       "      <td>1.054831</td>\n",
       "      <td>1.101176</td>\n",
       "    </tr>\n",
       "  </tbody>\n",
       "</table>\n",
       "<p>5 rows × 50 columns</p>\n",
       "</div>"
      ],
      "text/plain": [
       "              1         2          3          4         5          6   \\\n",
       "date                                                                    \n",
       "2000-01 -18.4697 -15.01050  -9.268000 -11.314900 -11.55794 -10.313767   \n",
       "2000-02 -12.9450 -12.08475  -1.150100  -6.149325  -6.89742  -4.863567   \n",
       "2000-03  10.5502  10.61170  12.732467   6.481175  12.57288  14.548233   \n",
       "2000-04 -34.0067 -14.69920 -13.241933 -14.983275 -14.78572 -12.160267   \n",
       "2000-05  10.3980   5.05635  -2.586567  -3.076300   2.71482   0.800367   \n",
       "\n",
       "                7          8          9         10  ...         41         42  \\\n",
       "date                                                ...                         \n",
       "2000-01  -6.357171  -6.871363  -7.722200  -7.54466  ...  -4.214020  -4.508864   \n",
       "2000-02   1.157257   0.240600  -1.811811   0.34940  ...  -2.993239  -3.123345   \n",
       "2000-03  12.506171  11.935425  12.331222  14.09810  ...  12.553683  12.626938   \n",
       "2000-04 -11.236829  -8.446300  -6.833000  -5.87817  ...   0.589590   0.857655   \n",
       "2000-05  -2.209471  -3.487513  -3.385256  -2.44673  ...   1.189717   0.949526   \n",
       "\n",
       "                43         44         45         46         47         48  \\\n",
       "date                                                                        \n",
       "2000-01  -4.244842  -3.797989  -3.784511  -3.852917  -3.856696  -3.725535   \n",
       "2000-02  -2.910016  -3.065409  -3.127529  -3.607615  -3.884132  -4.119185   \n",
       "2000-03  13.042670  13.437155  13.338118  13.510485  13.576179  13.997567   \n",
       "2000-04   0.816758   0.686650   0.786882   0.873767   0.925264   1.147215   \n",
       "2000-05   1.492228   1.363007   1.586362   1.797759   1.933309   1.738452   \n",
       "\n",
       "                49         50  \n",
       "date                           \n",
       "2000-01  -3.681267  -3.613722  \n",
       "2000-02  -3.994788  -4.069770  \n",
       "2000-03  14.067859  14.072216  \n",
       "2000-04   1.150743   1.127728  \n",
       "2000-05   1.054831   1.101176  \n",
       "\n",
       "[5 rows x 50 columns]"
      ]
     },
     "execution_count": 3,
     "metadata": {},
     "output_type": "execute_result"
    },
    {
     "data": {
      "image/png": "[encoded data removed]",
      "text/plain": [
       "<Figure size 432x288 with 1 Axes>"
      ]
     },
     "metadata": {
      "needs_background": "light"
     },
     "output_type": "display_data"
    }
   ],
   "source": [
    "# Define a function to construct portfolios with n stocks.\n",
    "def portfolio(n):\n",
    "    P_n = df.values[:, 0:n]\n",
    "    P_return = []\n",
    "    for i in range(len(P_n)):\n",
    "        daily_return = P_n[i].sum()/n\n",
    "        P_return.append(daily_return)\n",
    "    return(np.array(P_return))\n",
    "\n",
    "# Construct a dataframe that displays monthly returns of portfolios with 1 stock, 2 stocks to 50 stocks.\n",
    "list1 = []\n",
    "for n in range(1, 51):\n",
    "    list1.append(portfolio(n))\n",
    "EW_Port = pd.DataFrame(data = np.array(list1).T, columns = range(1, 51), index = df.index)\n",
    "\n",
    "# Plot the standard deviations of the portfolios with 1 stock, 2 stocks to 50 stocks.\n",
    "EW_Port.std().plot()\n",
    "plt.xlabel(\"Number of stocks in the portfolio\")\n",
    "plt.ylabel(\"Standard deviation of the portfolio\")\n",
    "\n",
    "EW_Port.head()"
   ]
  },
  {
   "cell_type": "code",
   "execution_count": 4,
   "metadata": {},
   "outputs": [
    {
     "data": {
      "text/html": [
       "<div>\n",
       "<style scoped>\n",
       "    .dataframe tbody tr th:only-of-type {\n",
       "        vertical-align: middle;\n",
       "    }\n",
       "\n",
       "    .dataframe tbody tr th {\n",
       "        vertical-align: top;\n",
       "    }\n",
       "\n",
       "    .dataframe thead th {\n",
       "        text-align: right;\n",
       "    }\n",
       "</style>\n",
       "<table border=\"1\" class=\"dataframe\">\n",
       "  <thead>\n",
       "    <tr style=\"text-align: right;\">\n",
       "      <th></th>\n",
       "      <th>Mean</th>\n",
       "      <th>Std</th>\n",
       "    </tr>\n",
       "  </thead>\n",
       "  <tbody>\n",
       "    <tr>\n",
       "      <th>5</th>\n",
       "      <td>0.718722</td>\n",
       "      <td>6.752499</td>\n",
       "    </tr>\n",
       "    <tr>\n",
       "      <th>10</th>\n",
       "      <td>1.035793</td>\n",
       "      <td>7.150906</td>\n",
       "    </tr>\n",
       "    <tr>\n",
       "      <th>25</th>\n",
       "      <td>1.123499</td>\n",
       "      <td>5.612073</td>\n",
       "    </tr>\n",
       "    <tr>\n",
       "      <th>50</th>\n",
       "      <td>1.160541</td>\n",
       "      <td>5.667025</td>\n",
       "    </tr>\n",
       "  </tbody>\n",
       "</table>\n",
       "</div>"
      ],
      "text/plain": [
       "        Mean       Std\n",
       "5   0.718722  6.752499\n",
       "10  1.035793  7.150906\n",
       "25  1.123499  5.612073\n",
       "50  1.160541  5.667025"
      ]
     },
     "execution_count": 4,
     "metadata": {},
     "output_type": "execute_result"
    },
    {
     "data": {
      "image/png": "[encoded data removed]",
      "text/plain": [
       "<Figure size 432x288 with 1 Axes>"
      ]
     },
     "metadata": {
      "needs_background": "light"
     },
     "output_type": "display_data"
    }
   ],
   "source": [
    "# Plot the standard deviations of the portfolios with 5 stocks, 10 stocks, 25 stocks and 50 stocks.\n",
    "EW_Port.iloc[:,[4,9,24,49]].std().plot()\n",
    "plt.xlabel(\"Number of stocks in the portfolio\")\n",
    "plt.ylabel(\"Standard deviation of the portfolio\")\n",
    "\n",
    "# Construct a dataframe that displays the mean and standard deviation of the portfolios \n",
    "# with 5 stocks, 10 stocks, 25 stocks and 50 stocks.\n",
    "EW_Port_stats = pd.DataFrame({\"Mean\": EW_Port.iloc[:,[4,9,24,49]].mean(),\n",
    "                              \"Std\": EW_Port.iloc[:,[4,9,24,49]].std()}, index = [5,10,25,50])\n",
    "EW_Port_stats"
   ]
  },
  {
   "cell_type": "markdown",
   "metadata": {},
   "source": [
    "### 2.\n",
    "\n",
    "- Eye-balling the graph, does it look like adding more and more stocks will diversify away all of the standard deviation? Why or why not?\n",
    "- Comment on the shape of the function. Point out a formula we studied in Notebook 4 that explains this shape. Discuss. \n"
   ]
  },
  {
   "cell_type": "markdown",
   "metadata": {},
   "source": [
    "No, it doesn't. From the graph, we can roughly see that with more stocks adding into the portfolio, the nonsystemmatic risks can be diversified away, but won't be 100% eliminate because there are still systemmatic risks contained in the portfolio.\n",
    "\n",
    "From the graph, we can see that the std of second portfolio is a little bit higher that the 5-stock portoflio. This is because when the portfolio has less assets, the variance terms and covariance terms play an equal role, which means the individual assets' volatility can drive up the portofolio's volatility. With more assets adding to the portfolio, the covariance terms will play a more important role in the calculation, so the volatility of the portfolio will decrease. The formula we can use is:\n",
    "\n",
    "$$Var(R_p)= Var(\\sum_{j=1}^N w_jR_j)=Cov(\\sum_{j=1}^N w_jR_j,\\sum_{i=1}^N w_iR_i)=\\sum_{j=1}^N  w_j Cov(R_j,\\sum_{i=1}^N w_iR_i)=\\sum_{j=1}^N \\sum_{i=1}^N w_jw_iCov(R_j, R_i)$$"
   ]
  },
  {
   "cell_type": "markdown",
   "metadata": {},
   "source": [
    "### 3. \n",
    "\n",
    "- For all four equal-weight portfolios, decompose the estimated portfolio variance into its two components (the contributions of variances and covariances). \n",
    "    \n",
    "    * Hint: First compute the total variance of each portfolio Total=Var(W'R), then compute the variance contribution, which is given by Varcomp=$\\sum W_i^2 Var(R_i)$, then construct the covariance component as the difference: Covcomp=Total-Varcomp\n",
    "    \n",
    "    * Hint: you can sum only the variance terms by first making the variance-covariance matrix diagonal : np.diag(Sigma) returns a vector with the diagonal component of Sigma if Sigma is a matrix, and if X is a vector np.diag(X) creates a diagonal square matrix of the same dimension as X where the diagonal of the matrix is populated by the entries in X.\n",
    "    \n",
    " - Plot the percentage of the portfolio’s variance due to the variances of individual security returns as a function of the number of stocks in the portfolio. \n",
    " \n",
    "\n",
    " \n",
    "\n",
    "\n",
    "\n",
    "### Answer here:"
   ]
  },
  {
   "cell_type": "code",
   "execution_count": 5,
   "metadata": {
    "scrolled": false
   },
   "outputs": [
    {
     "data": {
      "text/plain": [
       "Text(0, 0.5, 'Percentage explained by variances of individual security')"
      ]
     },
     "execution_count": 5,
     "metadata": {},
     "output_type": "execute_result"
    },
    {
     "data": {
      "image/png": "[encoded data removed]",
      "text/plain": [
       "<Figure size 432x288 with 1 Axes>"
      ]
     },
     "metadata": {
      "needs_background": "light"
     },
     "output_type": "display_data"
    }
   ],
   "source": [
    "# Define a function that calculate the percentage of the portfolio’s (with n stocks) variance \n",
    "# due to the variances of individual security returns.\n",
    "def PerVarcomp(n):\n",
    "    Varcomp = np.array(df.iloc[:, 0:n].var()) @ np.ones((n,1))/n**2\n",
    "    PortVar = EW_Port[n].var()\n",
    "    Per = Varcomp / PortVar\n",
    "    return(Per[0])\n",
    "\n",
    "# Construct a dataframe that displays the percentages of variance composition of \n",
    "# the portfolios with 1 stock, 2 stocks to 50 stocks.\n",
    "list2 = []\n",
    "for n in range(1, 51):\n",
    "    list2.append(PerVarcomp(n))\n",
    "df_PerVarcomp = pd.DataFrame({\"Percentage\": np.array(list2)}, index = list(range(1, 51)))\n",
    "\n",
    "# Plot the percentages of variance composition of the portfolios with 1 stock, 2 stocks to 50 stocks.\n",
    "df_PerVarcomp.plot()\n",
    "plt.xlabel(\"Number of stocks in the portfolio\")\n",
    "plt.ylabel(\"Percentage explained by variances of individual security\")"
   ]
  },
  {
   "cell_type": "code",
   "execution_count": 6,
   "metadata": {},
   "outputs": [
    {
     "data": {
      "text/plain": [
       "Text(0, 0.5, 'Percentage explained by variances of individual security')"
      ]
     },
     "execution_count": 6,
     "metadata": {},
     "output_type": "execute_result"
    },
    {
     "data": {
      "image/png": "[encoded data removed]",
      "text/plain": [
       "<Figure size 432x288 with 1 Axes>"
      ]
     },
     "metadata": {
      "needs_background": "light"
     },
     "output_type": "display_data"
    }
   ],
   "source": [
    "# Plot the percentages of variance composition of the portfolios with 5 stocks, 10 stocks, 25 stocks and 50 stocks.\n",
    "df_PerVarcomp.iloc[[4,9,24,49],:].plot()\n",
    "plt.xlabel(\"Number of stocks in the portfolio\")\n",
    "plt.ylabel(\"Percentage explained by variances of individual security\")"
   ]
  },
  {
   "cell_type": "markdown",
   "metadata": {},
   "source": [
    "### 4.\n",
    "\n",
    "- Comment on the shape of the function. Point out a formula we studied in Notebook 4 that explains this shape. Discuss. "
   ]
  },
  {
   "cell_type": "markdown",
   "metadata": {},
   "source": [
    "The shape of the function shows that as the number of assets increases, the percentage of the portfolio’s variance due to the variances of individual security returns decreases. This is because the covarience terms increase exponentially, outweighing the importance of variance terms. The formula we can use is:\n",
    "\n",
    "$$Var(R_p)= Var(\\sum_{j=1}^N w_jR_j)=Cov(\\sum_{j=1}^N w_jR_j,\\sum_{i=1}^N w_iR_i)=\\sum_{j=1}^N  w_j Cov(R_j,\\sum_{i=1}^N w_iR_i)=\\sum_{j=1}^N \\sum_{i=1}^N w_jw_iCov(R_j, R_i)$$"
   ]
  },
  {
   "cell_type": "markdown",
   "metadata": {},
   "source": [
    "### 5. \n",
    "\n",
    "- Compute the test statistics for whether the mean return of each of the four equal-weight portfolios you calculated in part 2 is different from zero. Speficically compute a t-test\n",
    "\n",
    "$$t_i=\\frac{average[R_i]}{standarddeviation[R_i]/\\sqrt{SampleSize}}$$\n",
    "\n",
    "\n",
    "- The t-test is normally distributed with mean zero and variance 1 under the null that the expected return is indeed zero\n",
    "\n",
    "- Do you reject or fail to reject the null hypothesis that each of the mean returns on the portfolios is different from zero?\n",
    " \n",
    " HINT:\n",
    " * follow the steps in notebook 3 to import the nomal distribution, define a standard normal\n",
    " * use the method .cdf (cumulative density function) that we use in class to evaluate the probability that this t-stat was generated by a standard normal distribution, i.e. how likely that this t-stat was indeed generated by a standard normal \n",
    "\n",
    " ### Answer here:"
   ]
  },
  {
   "cell_type": "code",
   "execution_count": 7,
   "metadata": {
    "scrolled": true
   },
   "outputs": [
    {
     "name": "stdout",
     "output_type": "stream",
     "text": [
      "P-values are smaller than 5% or not:\n",
      "5     False\n",
      "10    False\n",
      "25     True\n",
      "50     True\n",
      "Name: p-value, dtype: bool\n"
     ]
    },
    {
     "data": {
      "text/html": [
       "<div>\n",
       "<style scoped>\n",
       "    .dataframe tbody tr th:only-of-type {\n",
       "        vertical-align: middle;\n",
       "    }\n",
       "\n",
       "    .dataframe tbody tr th {\n",
       "        vertical-align: top;\n",
       "    }\n",
       "\n",
       "    .dataframe thead th {\n",
       "        text-align: right;\n",
       "    }\n",
       "</style>\n",
       "<table border=\"1\" class=\"dataframe\">\n",
       "  <thead>\n",
       "    <tr style=\"text-align: right;\">\n",
       "      <th></th>\n",
       "      <th>Mean</th>\n",
       "      <th>Std</th>\n",
       "      <th>t-stat</th>\n",
       "      <th>p-value</th>\n",
       "    </tr>\n",
       "  </thead>\n",
       "  <tbody>\n",
       "    <tr>\n",
       "      <th>5</th>\n",
       "      <td>0.718722</td>\n",
       "      <td>6.752499</td>\n",
       "      <td>1.428014</td>\n",
       "      <td>0.153288</td>\n",
       "    </tr>\n",
       "    <tr>\n",
       "      <th>10</th>\n",
       "      <td>1.035793</td>\n",
       "      <td>7.150906</td>\n",
       "      <td>1.943337</td>\n",
       "      <td>0.051975</td>\n",
       "    </tr>\n",
       "    <tr>\n",
       "      <th>25</th>\n",
       "      <td>1.123499</td>\n",
       "      <td>5.612073</td>\n",
       "      <td>2.685873</td>\n",
       "      <td>0.007234</td>\n",
       "    </tr>\n",
       "    <tr>\n",
       "      <th>50</th>\n",
       "      <td>1.160541</td>\n",
       "      <td>5.667025</td>\n",
       "      <td>2.747526</td>\n",
       "      <td>0.006005</td>\n",
       "    </tr>\n",
       "  </tbody>\n",
       "</table>\n",
       "</div>"
      ],
      "text/plain": [
       "        Mean       Std    t-stat   p-value\n",
       "5   0.718722  6.752499  1.428014  0.153288\n",
       "10  1.035793  7.150906  1.943337  0.051975\n",
       "25  1.123499  5.612073  2.685873  0.007234\n",
       "50  1.160541  5.667025  2.747526  0.006005"
      ]
     },
     "execution_count": 7,
     "metadata": {},
     "output_type": "execute_result"
    }
   ],
   "source": [
    "# Calculate the t-stats and p-values for the portfolios with 5 stocks, 10 stocks, 25 stocks and 50 stocks.\n",
    "T = len(EW_Port)\n",
    "standard_norm = norm(0,1)\n",
    "EW_Port_stats[\"t-stat\"] = EW_Port_stats[\"Mean\"]/(EW_Port_stats[\"Std\"]/(T**0.5))\n",
    "EW_Port_stats[\"p-value\"] = 2*(1-standard_norm.cdf(EW_Port_stats[\"t-stat\"]))\n",
    "\n",
    "# Test whether the p-values are smaller than 5% or not.\n",
    "print(\"P-values are smaller than 5% or not:\")\n",
    "print(EW_Port_stats[\"p-value\"] < 0.05)\n",
    "EW_Port_stats"
   ]
  },
  {
   "cell_type": "markdown",
   "metadata": {},
   "source": [
    "The p-values of the portfolios with 5 stocks and 10 stocks are bigger than 0.05, while p-values of the portfolio with 25 stocks and 50 stocks are smaller than 0.05. Therefore, at 5% significance level, for portfolios with 5 stocks and 10 stocks, we fail to reject the null hypothesis. At 5% significance level, for portfolios with 25 stocks and 50 stocks, we should reject the null hypothesis and conclude that each of the mean returns on the portfolios is different from zero."
   ]
  },
  {
   "cell_type": "markdown",
   "metadata": {
    "collapsed": true
   },
   "source": [
    "# Part II"
   ]
  },
  {
   "cell_type": "markdown",
   "metadata": {},
   "source": [
    "\n",
    "### 6. \n",
    "\n",
    "a)\tFor CSCO and the market, calculate volatility (return standard deviation) using two different methods. \n",
    "\n",
    "1. First method: for each date, calculate volatility using all the past data up to that date.  \n",
    "\n",
    "2. Second method: use only one year of past data. \n",
    "\n",
    "For both CSCO and the market, plot the two volatility estimates on the same chart. \n",
    "\n",
    "Why does the estimate using only the most recent year of data move around more than the estimate using all data?  Give two reasons why this might be the case.\n",
    "\n",
    "Hint: you can use a for loop starting when there is only one year of data (2001) and loop through the months unitl the end of the sample. For method 1 you compute the standard deviaiton using all obserrvation unitl the relvant month, while in mehtod 2 will use only the last 12 months worht of data\n",
    "\n",
    "You can also use the method .rolling\n",
    "\n",
    "https://pandas.pydata.org/pandas-docs/stable/generated/pandas.DataFrame.rolling.html"
   ]
  },
  {
   "cell_type": "code",
   "execution_count": 8,
   "metadata": {
    "scrolled": true
   },
   "outputs": [
    {
     "data": {
      "text/html": [
       "<div>\n",
       "<style scoped>\n",
       "    .dataframe tbody tr th:only-of-type {\n",
       "        vertical-align: middle;\n",
       "    }\n",
       "\n",
       "    .dataframe tbody tr th {\n",
       "        vertical-align: top;\n",
       "    }\n",
       "\n",
       "    .dataframe thead th {\n",
       "        text-align: right;\n",
       "    }\n",
       "</style>\n",
       "<table border=\"1\" class=\"dataframe\">\n",
       "  <thead>\n",
       "    <tr style=\"text-align: right;\">\n",
       "      <th></th>\n",
       "      <th>CSCO_V1</th>\n",
       "      <th>Market_V1</th>\n",
       "      <th>CSCO_V2</th>\n",
       "      <th>Market_V2</th>\n",
       "    </tr>\n",
       "    <tr>\n",
       "      <th>date</th>\n",
       "      <th></th>\n",
       "      <th></th>\n",
       "      <th></th>\n",
       "      <th></th>\n",
       "    </tr>\n",
       "  </thead>\n",
       "  <tbody>\n",
       "    <tr>\n",
       "      <th>2000-01</th>\n",
       "      <td>NaN</td>\n",
       "      <td>NaN</td>\n",
       "      <td>NaN</td>\n",
       "      <td>NaN</td>\n",
       "    </tr>\n",
       "    <tr>\n",
       "      <th>2000-02</th>\n",
       "      <td>13.083031</td>\n",
       "      <td>5.047965</td>\n",
       "      <td>NaN</td>\n",
       "      <td>NaN</td>\n",
       "    </tr>\n",
       "    <tr>\n",
       "      <th>2000-03</th>\n",
       "      <td>9.782016</td>\n",
       "      <td>4.871366</td>\n",
       "      <td>NaN</td>\n",
       "      <td>NaN</td>\n",
       "    </tr>\n",
       "    <tr>\n",
       "      <th>2000-04</th>\n",
       "      <td>14.261682</td>\n",
       "      <td>5.457991</td>\n",
       "      <td>NaN</td>\n",
       "      <td>NaN</td>\n",
       "    </tr>\n",
       "    <tr>\n",
       "      <th>2000-05</th>\n",
       "      <td>16.740432</td>\n",
       "      <td>4.984901</td>\n",
       "      <td>NaN</td>\n",
       "      <td>NaN</td>\n",
       "    </tr>\n",
       "  </tbody>\n",
       "</table>\n",
       "</div>"
      ],
      "text/plain": [
       "           CSCO_V1  Market_V1  CSCO_V2  Market_V2\n",
       "date                                             \n",
       "2000-01        NaN        NaN      NaN        NaN\n",
       "2000-02  13.083031   5.047965      NaN        NaN\n",
       "2000-03   9.782016   4.871366      NaN        NaN\n",
       "2000-04  14.261682   5.457991      NaN        NaN\n",
       "2000-05  16.740432   4.984901      NaN        NaN"
      ]
     },
     "execution_count": 8,
     "metadata": {},
     "output_type": "execute_result"
    }
   ],
   "source": [
    "# Calculate volatility using the first method.\n",
    "list3 = []\n",
    "for i in range(1, len(df)+1):\n",
    "    list3.append(df[[\"CSCO\",\"Market\"]].iloc[0:i].std())\n",
    "csco_mkt_std1 = pd.DataFrame(data = np.array(list3), index = df.index, columns = [\"CSCO_V1\", \"Market_V1\"])\n",
    "\n",
    "# Calculate volatility using the second method.\n",
    "csco_mkt_std2 = df[[\"CSCO\",\"Market\"]].rolling(12).std()\n",
    "csco_mkt_std2.rename(columns = {\"CSCO\": \"CSCO_V2\", \"Market\": \"Market_V2\"}, inplace = True)\n",
    "\n",
    "# Construct a dataframe that displays two volatility estimates of CSCO and the market.\n",
    "csco_mkt_std = pd.merge(csco_mkt_std1, csco_mkt_std2, on = 'date', how = \"outer\")\n",
    "csco_mkt_std.head()"
   ]
  },
  {
   "cell_type": "code",
   "execution_count": 9,
   "metadata": {
    "scrolled": true
   },
   "outputs": [
    {
     "data": {
      "text/plain": [
       "Text(0, 0.5, 'Volatility')"
      ]
     },
     "execution_count": 9,
     "metadata": {},
     "output_type": "execute_result"
    },
    {
     "data": {
      "image/png": "[encoded data removed]",
      "text/plain": [
       "<Figure size 432x288 with 1 Axes>"
      ]
     },
     "metadata": {
      "needs_background": "light"
     },
     "output_type": "display_data"
    }
   ],
   "source": [
    "# Plot the two volatility estimates of CSCO.\n",
    "csco_mkt_std[[\"CSCO_V1\", \"CSCO_V2\"]].plot()\n",
    "plt.xlabel(\"Date\")\n",
    "plt.ylabel(\"Volatility\")"
   ]
  },
  {
   "cell_type": "code",
   "execution_count": 10,
   "metadata": {
    "scrolled": false
   },
   "outputs": [
    {
     "data": {
      "text/plain": [
       "Text(0, 0.5, 'Volatility')"
      ]
     },
     "execution_count": 10,
     "metadata": {},
     "output_type": "execute_result"
    },
    {
     "data": {
      "image/png": "[encoded data removed]",
      "text/plain": [
       "<Figure size 432x288 with 1 Axes>"
      ]
     },
     "metadata": {
      "needs_background": "light"
     },
     "output_type": "display_data"
    }
   ],
   "source": [
    "# Plot the two volatility estimates of the market.\n",
    "csco_mkt_std[[\"Market_V1\", \"Market_V2\"]].plot()\n",
    "plt.xlabel(\"Date\")\n",
    "plt.ylabel(\"Volatility\")"
   ]
  },
  {
   "cell_type": "markdown",
   "metadata": {},
   "source": [
    "Two reasons:\n",
    "1. Based on the first method, when we add more dates into calcluation, the marginal contribution of each date to the stock's total volatility will decrease.\n",
    "2. The standad deviation of smaller dataset is more influenced by the extreme value. Because the second method is calculated based on 12 month rolling basis, it is more likely to be influenced by extreme value of the dates. Therefore, the graph of the second method moves around more."
   ]
  }
 ],
 "metadata": {
  "kernelspec": {
   "display_name": "Python 3",
   "language": "python",
   "name": "python3"
  },
  "language_info": {
   "codemirror_mode": {
    "name": "ipython",
    "version": 3
   },
   "file_extension": ".py",
   "mimetype": "text/x-python",
   "name": "python",
   "nbconvert_exporter": "python",
   "pygments_lexer": "ipython3",
   "version": "3.7.3"
  }
 },
 "nbformat": 4,
 "nbformat_minor": 2
}
