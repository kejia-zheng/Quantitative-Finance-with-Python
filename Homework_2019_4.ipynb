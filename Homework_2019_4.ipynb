{
 "cells": [
  {
   "cell_type": "markdown",
   "metadata": {},
   "source": [
    "# Homework 4"
   ]
  },
  {
   "cell_type": "markdown",
   "metadata": {},
   "source": [
    "# Part I"
   ]
  },
  {
   "cell_type": "markdown",
   "metadata": {},
   "source": [
    "### 1. \n",
    "\n",
    "In order to proceed you need Microsoft Excel and file \"https://www.dropbox.com/s/5qituivg6ovlscr/Homework2b.xlsx?dl=1\". \n",
    "\n",
    "This file contains data for 10 value-weighted industry portfolios, using monthly returns over an 90-year period.  \n",
    "\n",
    "\n",
    "\n",
    "Find the minimum variance and tangency portfolios of the industries. \n",
    "\n",
    "(hint 1:  For the tangency portfolio, put everything in excess return space and use the formula we derived in class) \n",
    "\n",
    "\n",
    "(hint 2::  to find the minimum variance portfolio, look at the maximization problem of Lecture 3 and now replace the constraint that the portfolio has to have some target expected return, by the constraint that the weights have to add up to 1-- The constraint becomes 1'@ W-1 instead of ER' @ W -mutarget , so in practice you are simply replacing the vector of average returns by a vector of 1's...What does this mean? It means that a small adjustement to the formula you use to construct the tangent portfolio will deliver for you the minimum variance portfolio.\n",
    "\n",
    "\n",
    "\n",
    "Report their weights. Don't forget to normalize so they add up to 1, and be careful so the signs don't flip! \n",
    "\n",
    "Comment on the different weights applied to each industry under the MVP and Tangent portfolios\n",
    "\n"
   ]
  },
  {
   "cell_type": "code",
   "execution_count": 1,
   "metadata": {
    "scrolled": true
   },
   "outputs": [
    {
     "data": {
      "text/html": [
       "<div>\n",
       "<style scoped>\n",
       "    .dataframe tbody tr th:only-of-type {\n",
       "        vertical-align: middle;\n",
       "    }\n",
       "\n",
       "    .dataframe tbody tr th {\n",
       "        vertical-align: top;\n",
       "    }\n",
       "\n",
       "    .dataframe thead th {\n",
       "        text-align: right;\n",
       "    }\n",
       "</style>\n",
       "<table border=\"1\" class=\"dataframe\">\n",
       "  <thead>\n",
       "    <tr style=\"text-align: right;\">\n",
       "      <th></th>\n",
       "      <th>NoDur</th>\n",
       "      <th>Durbl</th>\n",
       "      <th>Manuf</th>\n",
       "      <th>Enrgy</th>\n",
       "      <th>HiTec</th>\n",
       "      <th>Telcm</th>\n",
       "      <th>Shops</th>\n",
       "      <th>Hlth</th>\n",
       "      <th>Utils</th>\n",
       "      <th>Other</th>\n",
       "    </tr>\n",
       "    <tr>\n",
       "      <th>Date</th>\n",
       "      <th></th>\n",
       "      <th></th>\n",
       "      <th></th>\n",
       "      <th></th>\n",
       "      <th></th>\n",
       "      <th></th>\n",
       "      <th></th>\n",
       "      <th></th>\n",
       "      <th></th>\n",
       "      <th></th>\n",
       "    </tr>\n",
       "  </thead>\n",
       "  <tbody>\n",
       "    <tr>\n",
       "      <th>1926-07</th>\n",
       "      <td>0.0123</td>\n",
       "      <td>0.1533</td>\n",
       "      <td>0.0447</td>\n",
       "      <td>-0.0140</td>\n",
       "      <td>0.0268</td>\n",
       "      <td>0.0061</td>\n",
       "      <td>-0.0011</td>\n",
       "      <td>0.0155</td>\n",
       "      <td>0.0682</td>\n",
       "      <td>0.0194</td>\n",
       "    </tr>\n",
       "    <tr>\n",
       "      <th>1926-08</th>\n",
       "      <td>0.0372</td>\n",
       "      <td>0.0343</td>\n",
       "      <td>0.0256</td>\n",
       "      <td>0.0322</td>\n",
       "      <td>0.0241</td>\n",
       "      <td>0.0192</td>\n",
       "      <td>-0.0096</td>\n",
       "      <td>0.0400</td>\n",
       "      <td>-0.0194</td>\n",
       "      <td>0.0413</td>\n",
       "    </tr>\n",
       "    <tr>\n",
       "      <th>1926-09</th>\n",
       "      <td>0.0091</td>\n",
       "      <td>0.0457</td>\n",
       "      <td>0.0092</td>\n",
       "      <td>-0.0362</td>\n",
       "      <td>-0.0061</td>\n",
       "      <td>0.0218</td>\n",
       "      <td>-0.0002</td>\n",
       "      <td>0.0046</td>\n",
       "      <td>0.0181</td>\n",
       "      <td>0.0006</td>\n",
       "    </tr>\n",
       "    <tr>\n",
       "      <th>1926-10</th>\n",
       "      <td>-0.0156</td>\n",
       "      <td>-0.0855</td>\n",
       "      <td>-0.0395</td>\n",
       "      <td>-0.0110</td>\n",
       "      <td>-0.0490</td>\n",
       "      <td>-0.0043</td>\n",
       "      <td>-0.0261</td>\n",
       "      <td>-0.0089</td>\n",
       "      <td>-0.0295</td>\n",
       "      <td>-0.0317</td>\n",
       "    </tr>\n",
       "    <tr>\n",
       "      <th>1926-11</th>\n",
       "      <td>0.0490</td>\n",
       "      <td>-0.0050</td>\n",
       "      <td>0.0379</td>\n",
       "      <td>-0.0030</td>\n",
       "      <td>0.0440</td>\n",
       "      <td>0.0132</td>\n",
       "      <td>0.0612</td>\n",
       "      <td>0.0511</td>\n",
       "      <td>0.0340</td>\n",
       "      <td>0.0180</td>\n",
       "    </tr>\n",
       "  </tbody>\n",
       "</table>\n",
       "</div>"
      ],
      "text/plain": [
       "          NoDur   Durbl   Manuf   Enrgy   HiTec   Telcm   Shops   Hlth   \\\n",
       "Date                                                                      \n",
       "1926-07  0.0123  0.1533  0.0447 -0.0140  0.0268  0.0061 -0.0011  0.0155   \n",
       "1926-08  0.0372  0.0343  0.0256  0.0322  0.0241  0.0192 -0.0096  0.0400   \n",
       "1926-09  0.0091  0.0457  0.0092 -0.0362 -0.0061  0.0218 -0.0002  0.0046   \n",
       "1926-10 -0.0156 -0.0855 -0.0395 -0.0110 -0.0490 -0.0043 -0.0261 -0.0089   \n",
       "1926-11  0.0490 -0.0050  0.0379 -0.0030  0.0440  0.0132  0.0612  0.0511   \n",
       "\n",
       "          Utils   Other  \n",
       "Date                     \n",
       "1926-07  0.0682  0.0194  \n",
       "1926-08 -0.0194  0.0413  \n",
       "1926-09  0.0181  0.0006  \n",
       "1926-10 -0.0295 -0.0317  \n",
       "1926-11  0.0340  0.0180  "
      ]
     },
     "execution_count": 1,
     "metadata": {},
     "output_type": "execute_result"
    }
   ],
   "source": [
    "import numpy as np\n",
    "import pandas as pd\n",
    "import matplotlib.pyplot as plt\n",
    "%matplotlib inline\n",
    "from IPython.display import display_html\n",
    "\n",
    "df = pd.read_excel(\"https://www.dropbox.com/s/5qituivg6ovlscr/Homework2b.xlsx?dl=1\", index_col = 0)/100\n",
    "df.index = pd.to_datetime(df.index, format = \"%Y%m\", errors = \"ignore\").to_period(\"M\")\n",
    "df.index.name = \"Date\"\n",
    "df_no_rf = df.drop('Risk-free rate',axis=1)\n",
    "RiskPre = (df.drop('Risk-free rate',axis=1)).subtract(df[\"Risk-free rate\"],axis=\"index\")\n",
    "RiskPre.head()"
   ]
  },
  {
   "cell_type": "code",
   "execution_count": 2,
   "metadata": {
    "scrolled": true
   },
   "outputs": [
    {
     "data": {
      "text/html": [
       "<div>\n",
       "<style scoped>\n",
       "    .dataframe tbody tr th:only-of-type {\n",
       "        vertical-align: middle;\n",
       "    }\n",
       "\n",
       "    .dataframe tbody tr th {\n",
       "        vertical-align: top;\n",
       "    }\n",
       "\n",
       "    .dataframe thead th {\n",
       "        text-align: right;\n",
       "    }\n",
       "</style>\n",
       "<table border=\"1\" class=\"dataframe\">\n",
       "  <thead>\n",
       "    <tr style=\"text-align: right;\">\n",
       "      <th></th>\n",
       "      <th>Tangency</th>\n",
       "      <th>MinVar</th>\n",
       "      <th>RP</th>\n",
       "      <th>EW</th>\n",
       "    </tr>\n",
       "  </thead>\n",
       "  <tbody>\n",
       "    <tr>\n",
       "      <th>NoDur</th>\n",
       "      <td>0.827423</td>\n",
       "      <td>0.780879</td>\n",
       "      <td>0.156744</td>\n",
       "      <td>0.1</td>\n",
       "    </tr>\n",
       "    <tr>\n",
       "      <th>Durbl</th>\n",
       "      <td>0.091366</td>\n",
       "      <td>-0.063287</td>\n",
       "      <td>0.064596</td>\n",
       "      <td>0.1</td>\n",
       "    </tr>\n",
       "    <tr>\n",
       "      <th>Manuf</th>\n",
       "      <td>-0.199566</td>\n",
       "      <td>-0.132469</td>\n",
       "      <td>0.088583</td>\n",
       "      <td>0.1</td>\n",
       "    </tr>\n",
       "    <tr>\n",
       "      <th>Enrgy</th>\n",
       "      <td>0.315754</td>\n",
       "      <td>0.219962</td>\n",
       "      <td>0.095162</td>\n",
       "      <td>0.1</td>\n",
       "    </tr>\n",
       "    <tr>\n",
       "      <th>HiTec</th>\n",
       "      <td>0.018713</td>\n",
       "      <td>-0.106368</td>\n",
       "      <td>0.072314</td>\n",
       "      <td>0.1</td>\n",
       "    </tr>\n",
       "    <tr>\n",
       "      <th>Telcm</th>\n",
       "      <td>0.341131</td>\n",
       "      <td>0.553693</td>\n",
       "      <td>0.131802</td>\n",
       "      <td>0.1</td>\n",
       "    </tr>\n",
       "    <tr>\n",
       "      <th>Shops</th>\n",
       "      <td>-0.043836</td>\n",
       "      <td>-0.062338</td>\n",
       "      <td>0.101730</td>\n",
       "      <td>0.1</td>\n",
       "    </tr>\n",
       "    <tr>\n",
       "      <th>Hlth</th>\n",
       "      <td>0.321989</td>\n",
       "      <td>0.069059</td>\n",
       "      <td>0.125181</td>\n",
       "      <td>0.1</td>\n",
       "    </tr>\n",
       "    <tr>\n",
       "      <th>Utils</th>\n",
       "      <td>-0.032589</td>\n",
       "      <td>0.077467</td>\n",
       "      <td>0.092364</td>\n",
       "      <td>0.1</td>\n",
       "    </tr>\n",
       "    <tr>\n",
       "      <th>Other</th>\n",
       "      <td>-0.640386</td>\n",
       "      <td>-0.336597</td>\n",
       "      <td>0.071524</td>\n",
       "      <td>0.1</td>\n",
       "    </tr>\n",
       "  </tbody>\n",
       "</table>\n",
       "</div>"
      ],
      "text/plain": [
       "       Tangency    MinVar        RP   EW\n",
       "NoDur  0.827423  0.780879  0.156744  0.1\n",
       "Durbl  0.091366 -0.063287  0.064596  0.1\n",
       "Manuf -0.199566 -0.132469  0.088583  0.1\n",
       "Enrgy  0.315754  0.219962  0.095162  0.1\n",
       "HiTec  0.018713 -0.106368  0.072314  0.1\n",
       "Telcm  0.341131  0.553693  0.131802  0.1\n",
       "Shops -0.043836 -0.062338  0.101730  0.1\n",
       "Hlth   0.321989  0.069059  0.125181  0.1\n",
       "Utils -0.032589  0.077467  0.092364  0.1\n",
       "Other -0.640386 -0.336597  0.071524  0.1"
      ]
     },
     "execution_count": 2,
     "metadata": {},
     "output_type": "execute_result"
    }
   ],
   "source": [
    "RiskPre_cov = RiskPre.cov()\n",
    "RiskPre_mean = RiskPre.mean()\n",
    "RiskPre_std = RiskPre.std()\n",
    "RiskPre_cov_dig = np.diag(np.diag(RiskPre_cov))\n",
    "RiskPre_cov_ide = np.diag(np.diag(RiskPre_cov))/np.diag(RiskPre_cov)\n",
    "Tangency = np.linalg.inv(RiskPre_cov) @ RiskPre_mean.values\n",
    "MinVar = np.linalg.inv(RiskPre_cov) @ (RiskPre_mean.values*0 + RiskPre_mean.mean())\n",
    "RP = np.linalg.inv(RiskPre_cov_dig) @ RiskPre_mean.values\n",
    "EW = np.linalg.inv(RiskPre_cov_ide) @ np.ones(10)*0.05\n",
    "\n",
    "# Construct the minimum variance, tangency, risk parity and equal weighted portfolios of the industries.\n",
    "PortW = pd.DataFrame({\"Tangency\": np.array(Tangency/Tangency.sum()),\n",
    "                     \"MinVar\": np.array(MinVar/MinVar.sum()),\n",
    "                     \"RP\": np.array(RP/RP.sum()),\n",
    "                     \"EW\": np.array(EW/EW.sum()),}, index = RiskPre_cov.columns)\n",
    "PortW"
   ]
  },
  {
   "cell_type": "markdown",
   "metadata": {},
   "source": [
    "Comment on the different weights applied to each industry under the MVP and Tangent portfolios.\n",
    "\n",
    "The purpose of MVP is to minimize the variance, so it will allocate more weight to stocks with lower variance.\n",
    "The purpose of Tangent Portfolio is to maximize the sharpe ratio, so it will allocate more weight to assets with higher sharpe ratio."
   ]
  },
  {
   "cell_type": "markdown",
   "metadata": {},
   "source": [
    "### 2. \n",
    "\n",
    "a)Compute the means and standard deviations of the minimum variance portfolio and Tangent portfolios.  \n",
    "\n",
    "b)Plot the mean-standard deviation efficient frontier of these 10 industries. Plot the 10 industries as well on a mean-standard deviation diagram.  \n",
    "- Do that for the case that you have free borrowing and lending like we did in  notebook 4, where we can simply scale up and down the tangency portfolio weights\n",
    "\n",
    "c)Plot the mean-variance efficient frontier of these 10 industries. Plot the 10 industries as well on a mean-standard deviation diagram. \n",
    "\n",
    "- Do that for the case that you have free borrowing and lending like we did in the beggining of notebook 4, where we can simply scale up and down the tangency portfolio weights\n",
    "\n",
    "\n"
   ]
  },
  {
   "cell_type": "code",
   "execution_count": 3,
   "metadata": {
    "scrolled": true
   },
   "outputs": [
    {
     "data": {
      "text/html": [
       "<div>\n",
       "<style scoped>\n",
       "    .dataframe tbody tr th:only-of-type {\n",
       "        vertical-align: middle;\n",
       "    }\n",
       "\n",
       "    .dataframe tbody tr th {\n",
       "        vertical-align: top;\n",
       "    }\n",
       "\n",
       "    .dataframe thead th {\n",
       "        text-align: right;\n",
       "    }\n",
       "</style>\n",
       "<table border=\"1\" class=\"dataframe\">\n",
       "  <thead>\n",
       "    <tr style=\"text-align: right;\">\n",
       "      <th></th>\n",
       "      <th>Mean</th>\n",
       "      <th>Std</th>\n",
       "    </tr>\n",
       "  </thead>\n",
       "  <tbody>\n",
       "    <tr>\n",
       "      <th>Tangency</th>\n",
       "      <td>0.092367</td>\n",
       "      <td>0.140307</td>\n",
       "    </tr>\n",
       "    <tr>\n",
       "      <th>MinVar</th>\n",
       "      <td>0.077699</td>\n",
       "      <td>0.128685</td>\n",
       "    </tr>\n",
       "    <tr>\n",
       "      <th>RP</th>\n",
       "      <td>0.085705</td>\n",
       "      <td>0.172875</td>\n",
       "    </tr>\n",
       "    <tr>\n",
       "      <th>EW</th>\n",
       "      <td>0.086345</td>\n",
       "      <td>0.181012</td>\n",
       "    </tr>\n",
       "  </tbody>\n",
       "</table>\n",
       "</div>"
      ],
      "text/plain": [
       "              Mean       Std\n",
       "Tangency  0.092367  0.140307\n",
       "MinVar    0.077699  0.128685\n",
       "RP        0.085705  0.172875\n",
       "EW        0.086345  0.181012"
      ]
     },
     "execution_count": 3,
     "metadata": {},
     "output_type": "execute_result"
    }
   ],
   "source": [
    "# a) Compute the means and standard deviations of the minimum variance portfolio and Tangent portfolios.\n",
    "PortR = pd.DataFrame({\"Tangency\": RiskPre @ PortW[\"Tangency\"],\n",
    "                         \"MinVar\": RiskPre @ PortW[\"MinVar\"],\n",
    "                         \"RP\": RiskPre @ PortW[\"RP\"],\n",
    "                         \"EW\": RiskPre @ PortW[\"EW\"]},\n",
    "                          index = RiskPre.index)\n",
    "\n",
    "MS = pd.DataFrame({\"Mean\": PortR.mean()*12,\n",
    "                   \"Std\": PortR.std()*12**0.5}, index = [\"Tangency\", \"MinVar\", \"RP\", \"EW\"])\n",
    "MS"
   ]
  },
  {
   "cell_type": "code",
   "execution_count": 4,
   "metadata": {},
   "outputs": [
    {
     "data": {
      "image/png": "[encoded data removed]",
      "text/plain": [
       "<Figure size 1080x576 with 1 Axes>"
      ]
     },
     "metadata": {
      "needs_background": "light"
     },
     "output_type": "display_data"
    }
   ],
   "source": [
    "rf = 0.012/12\n",
    "return_targets = np.linspace(rf, 0.24/12, 50)\n",
    "\n",
    "mean_std_1 = []\n",
    "for i in return_targets:\n",
    "    mean_std_1.append([12**.5*(i-rf)/(PortR[\"Tangency\"].mean()/PortR[\"Tangency\"].std()),12*i])\n",
    "mean_std_1 = np.array(mean_std_1)\n",
    "\n",
    "# b) Plot the mean-standard deviation efficient frontier of these 10 industries.\n",
    "plt.figure(figsize=(15,8))\n",
    "plt.scatter(mean_std_1[:,0], mean_std_1[:,1], color = \"blue\")\n",
    "plt.scatter(12**.5*RiskPre_std, 12*(RiskPre_mean + rf), color = \"orange\")\n",
    "plt.xlabel(\"Volatility\")\n",
    "plt.ylabel(\"Average return\")\n",
    "plt.show()"
   ]
  },
  {
   "cell_type": "code",
   "execution_count": 5,
   "metadata": {
    "scrolled": false
   },
   "outputs": [
    {
     "data": {
      "image/png": "[encoded data removed]",
      "text/plain": [
       "<Figure size 1080x576 with 1 Axes>"
      ]
     },
     "metadata": {
      "needs_background": "light"
     },
     "output_type": "display_data"
    }
   ],
   "source": [
    "# c) Plot the mean-variance efficient frontier of these 10 industries. \n",
    "plt.figure(figsize=(15,8))\n",
    "plt.scatter(mean_std_1[:,0]**2,mean_std_1[:,1], color = \"blue\")\n",
    "plt.scatter(12*RiskPre_std**2, 12*(RiskPre_mean + rf), color = \"orange\")\n",
    "plt.xlabel(\"Variance\")\n",
    "plt.ylabel(\"Average return\")\n",
    "plt.show()"
   ]
  },
  {
   "cell_type": "markdown",
   "metadata": {},
   "source": [
    "### 3.\n",
    "\n",
    "* Repeat question 2, but now for the case that you cannot borrow or invest in the risk-free asset-- for this case you will need to use the maximizer that we use in notebook 5."
   ]
  },
  {
   "cell_type": "code",
   "execution_count": 6,
   "metadata": {},
   "outputs": [],
   "source": [
    "from scipy.optimize import minimize\n",
    "\n",
    "def variance(W):\n",
    "    return W.T @ RiskPre_cov @ W\n",
    "\n",
    "constraint_mv = ({'type': 'eq', 'fun': lambda W : W.sum() - 1})\n",
    "\n",
    "res = minimize(variance, PortW[\"EW\"], constraints = constraint_mv)\n",
    "\n",
    "mean_std_2 = []\n",
    "for i in return_targets:\n",
    "    constraint_list = ({'type':'eq','fun': lambda W: W.T @ RiskPre_mean.values + rf - i},\n",
    "                       {'type':'eq','fun': lambda W: W.sum()-1})\n",
    "    res1 = minimize(variance, PortW[\"EW\"], constraints = constraint_list)\n",
    "    std = 12**0.5*(res1.fun**0.5)\n",
    "    mean = 12*(res1.x @ RiskPre_mean.values + rf)\n",
    "    mean_std_2.append([std, mean])\n",
    "    \n",
    "mean_std_2 = np.array(mean_std_2)"
   ]
  },
  {
   "cell_type": "code",
   "execution_count": 7,
   "metadata": {
    "scrolled": false
   },
   "outputs": [
    {
     "data": {
      "image/png": "[encoded data removed]",
      "text/plain": [
       "<Figure size 1080x576 with 1 Axes>"
      ]
     },
     "metadata": {
      "needs_background": "light"
     },
     "output_type": "display_data"
    }
   ],
   "source": [
    "# Plot the mean-standard deviation efficient frontier of these 10 industries without borrowing and investing.\n",
    "\n",
    "plt.figure(figsize = (15, 8))\n",
    "plt.scatter(mean_std_2[:, 0], mean_std_2[:, 1], color = \"blue\")\n",
    "plt.scatter(12**0.5*RiskPre_std, 12*(RiskPre_mean + rf), color = \"orange\")\n",
    "plt.show()"
   ]
  },
  {
   "cell_type": "code",
   "execution_count": 8,
   "metadata": {},
   "outputs": [
    {
     "data": {
      "image/png": "[encoded data removed]",
      "text/plain": [
       "<Figure size 1080x576 with 1 Axes>"
      ]
     },
     "metadata": {
      "needs_background": "light"
     },
     "output_type": "display_data"
    }
   ],
   "source": [
    "# Plot the mean-variance efficient frontier of these 10 industries without borrowing and investing.\n",
    "plt.figure(figsize = (15, 8))\n",
    "plt.scatter(mean_std_2[:, 0]**2, mean_std_2[:, 1], color = \"blue\")\n",
    "plt.scatter(12*RiskPre_std**2, 12*(RiskPre_mean + rf), color = \"orange\")\n",
    "plt.show()"
   ]
  },
  {
   "cell_type": "markdown",
   "metadata": {},
   "source": [
    "### 4. \n",
    "\n",
    "a)Comment on the reliability of the mean return estimates for each industry.\n",
    "\n",
    "b)Describe how you would evaluate if they are well estimated.\n",
    "\n",
    "c)Construct the 95% confidence interval for the estimator of each industry expected return.\n",
    "\n",
    "\n",
    "d)Artificially change the mean return estimates of each industry by a one standard error increase.  How much does the Tangent portfolio change?  Does the efficient frontier change a lot or a little? What does that teach us?\n",
    " \n",
    "- Do that for the case that you have free borrowing and lending like we did in the beggining of notebook 4, where we can simply scale up and down the tangency portfolio weights, and also for the case that you cannot borrow or invest in the risk-free asset-- for this case you will need to use the maximizer that we use in the end of notebook 4.\n",
    "\n"
   ]
  },
  {
   "cell_type": "markdown",
   "metadata": {},
   "source": [
    "a) Comment on the reliability of the mean return estimates for each industry.\n",
    "\n",
    "The mean return estimates for each industry is not very reliable.\n",
    "\n",
    "b) Describe how you would evaluate if they are well estimated.\n",
    "\n",
    "If they are well estimated, we can conduct a two-tail test and test whether the mean estimator is within the confidence interval."
   ]
  },
  {
   "cell_type": "code",
   "execution_count": 9,
   "metadata": {
    "scrolled": true
   },
   "outputs": [
    {
     "data": {
      "text/html": [
       "<div>\n",
       "<style scoped>\n",
       "    .dataframe tbody tr th:only-of-type {\n",
       "        vertical-align: middle;\n",
       "    }\n",
       "\n",
       "    .dataframe tbody tr th {\n",
       "        vertical-align: top;\n",
       "    }\n",
       "\n",
       "    .dataframe thead th {\n",
       "        text-align: right;\n",
       "    }\n",
       "</style>\n",
       "<table border=\"1\" class=\"dataframe\">\n",
       "  <thead>\n",
       "    <tr style=\"text-align: right;\">\n",
       "      <th></th>\n",
       "      <th>Mean</th>\n",
       "      <th>Std</th>\n",
       "      <th>Lower</th>\n",
       "      <th>Upper</th>\n",
       "    </tr>\n",
       "  </thead>\n",
       "  <tbody>\n",
       "    <tr>\n",
       "      <th>NoDur</th>\n",
       "      <td>0.007037</td>\n",
       "      <td>0.046262</td>\n",
       "      <td>0.004264</td>\n",
       "      <td>0.009811</td>\n",
       "    </tr>\n",
       "    <tr>\n",
       "      <th>Durbl</th>\n",
       "      <td>0.008169</td>\n",
       "      <td>0.077643</td>\n",
       "      <td>0.003515</td>\n",
       "      <td>0.012824</td>\n",
       "    </tr>\n",
       "    <tr>\n",
       "      <th>Manuf</th>\n",
       "      <td>0.007394</td>\n",
       "      <td>0.063080</td>\n",
       "      <td>0.003613</td>\n",
       "      <td>0.011176</td>\n",
       "    </tr>\n",
       "    <tr>\n",
       "      <th>Enrgy</th>\n",
       "      <td>0.007422</td>\n",
       "      <td>0.060973</td>\n",
       "      <td>0.003767</td>\n",
       "      <td>0.011077</td>\n",
       "    </tr>\n",
       "    <tr>\n",
       "      <th>HiTec</th>\n",
       "      <td>0.008128</td>\n",
       "      <td>0.073199</td>\n",
       "      <td>0.003740</td>\n",
       "      <td>0.012516</td>\n",
       "    </tr>\n",
       "    <tr>\n",
       "      <th>Telcm</th>\n",
       "      <td>0.005871</td>\n",
       "      <td>0.046081</td>\n",
       "      <td>0.003109</td>\n",
       "      <td>0.008634</td>\n",
       "    </tr>\n",
       "    <tr>\n",
       "      <th>Shops</th>\n",
       "      <td>0.007375</td>\n",
       "      <td>0.058788</td>\n",
       "      <td>0.003851</td>\n",
       "      <td>0.010900</td>\n",
       "    </tr>\n",
       "    <tr>\n",
       "      <th>Hlth</th>\n",
       "      <td>0.008246</td>\n",
       "      <td>0.056036</td>\n",
       "      <td>0.004887</td>\n",
       "      <td>0.011605</td>\n",
       "    </tr>\n",
       "    <tr>\n",
       "      <th>Utils</th>\n",
       "      <td>0.006017</td>\n",
       "      <td>0.055725</td>\n",
       "      <td>0.002676</td>\n",
       "      <td>0.009357</td>\n",
       "    </tr>\n",
       "    <tr>\n",
       "      <th>Other</th>\n",
       "      <td>0.006294</td>\n",
       "      <td>0.064767</td>\n",
       "      <td>0.002411</td>\n",
       "      <td>0.010176</td>\n",
       "    </tr>\n",
       "  </tbody>\n",
       "</table>\n",
       "</div>"
      ],
      "text/plain": [
       "           Mean       Std     Lower     Upper\n",
       "NoDur  0.007037  0.046262  0.004264  0.009811\n",
       "Durbl  0.008169  0.077643  0.003515  0.012824\n",
       "Manuf  0.007394  0.063080  0.003613  0.011176\n",
       "Enrgy  0.007422  0.060973  0.003767  0.011077\n",
       "HiTec  0.008128  0.073199  0.003740  0.012516\n",
       "Telcm  0.005871  0.046081  0.003109  0.008634\n",
       "Shops  0.007375  0.058788  0.003851  0.010900\n",
       "Hlth   0.008246  0.056036  0.004887  0.011605\n",
       "Utils  0.006017  0.055725  0.002676  0.009357\n",
       "Other  0.006294  0.064767  0.002411  0.010176"
      ]
     },
     "execution_count": 9,
     "metadata": {},
     "output_type": "execute_result"
    }
   ],
   "source": [
    "# c) Construct the 95% confidence interval for the estimator of each industry expected return.\n",
    "Con_int = pd.DataFrame({\"Mean\": RiskPre_mean,\n",
    "                        \"Std\": RiskPre_std}, index = RiskPre_cov.columns)\n",
    "Con_int[\"Lower\"] = Con_int[\"Mean\"] - 1.96*(Con_int[\"Std\"]/(len(df_no_rf)**0.5))\n",
    "Con_int[\"Upper\"] = Con_int[\"Mean\"] + 1.96*(Con_int[\"Std\"]/(len(df_no_rf)**0.5))\n",
    "Con_int"
   ]
  },
  {
   "cell_type": "code",
   "execution_count": 10,
   "metadata": {},
   "outputs": [
    {
     "data": {
      "text/plain": [
       "array([ 7.11203180e-01,  1.15519455e-01, -2.46704126e-01,  3.19602209e-01,\n",
       "        3.53790271e-02,  3.32790799e-01, -2.55396568e-02,  3.13025717e-01,\n",
       "       -2.80432639e-04, -5.54996171e-01])"
      ]
     },
     "execution_count": 10,
     "metadata": {},
     "output_type": "execute_result"
    }
   ],
   "source": [
    "# d) Artificially change the mean return estimates of each industry by a one standard error increase. \n",
    "RiskPre_mean_adj = RiskPre_mean + RiskPre_std/(len(RiskPre)**0.5)\n",
    "Tangency_adj = np.linalg.inv(RiskPre_cov) @ RiskPre_mean_adj.values\n",
    "w_t_adj = Tangency_adj/Tangency_adj.sum()\n",
    "mean_t_adj, std_t_adj = RiskPre_mean_adj @ w_t_adj, (w_t_adj.T @ RiskPre_cov @ w_t_adj)**0.5\n",
    "# How much does the Tangent portfolio change? \n",
    "w_t_adj"
   ]
  },
  {
   "cell_type": "code",
   "execution_count": 11,
   "metadata": {},
   "outputs": [
    {
     "data": {
      "image/png": "[encoded data removed]",
      "text/plain": [
       "<Figure size 1080x576 with 1 Axes>"
      ]
     },
     "metadata": {
      "needs_background": "light"
     },
     "output_type": "display_data"
    }
   ],
   "source": [
    "# Plot the mean-variance efficient frontier of these 10 industries with borrowing and investing.\n",
    "mean_std_3 = []\n",
    "for i in return_targets:\n",
    "    mean_std_3.append([12**.5*(i-rf)/(mean_t_adj/std_t_adj),12*i])\n",
    "mean_std_3 = np.array(mean_std_3)\n",
    "\n",
    "plt.figure(figsize=(15,8))\n",
    "plt.scatter(mean_std_3[:,0], mean_std_3[:,1], color = \"blue\", label = \"new efficient frontier\")\n",
    "plt.scatter(mean_std_1[:,0],mean_std_1[:,1], color = \"green\", label = \"old efficient frontier\")\n",
    "plt.scatter(12**0.5*RiskPre_std, 12*(RiskPre_mean + rf), color = \"orange\")\n",
    "plt.scatter(12**0.5*RiskPre_std, 12*(RiskPre_mean_adj + rf), color = \"red\")\n",
    "plt.legend(loc = 'best')\n",
    "plt.xlabel(\"Volatility\")\n",
    "plt.ylabel(\"Average return\")\n",
    "plt.show()"
   ]
  },
  {
   "cell_type": "code",
   "execution_count": 12,
   "metadata": {
    "scrolled": false
   },
   "outputs": [
    {
     "data": {
      "image/png": "[encoded data removed]",
      "text/plain": [
       "<Figure size 1080x576 with 1 Axes>"
      ]
     },
     "metadata": {
      "needs_background": "light"
     },
     "output_type": "display_data"
    }
   ],
   "source": [
    "# Plot the mean-variance efficient frontier of these 10 industries without borrowing and investing.\n",
    "mean_std_4 = []\n",
    "for i in return_targets:\n",
    "    constraint_list = ({'type':'eq','fun': lambda W: W.T @ RiskPre_mean_adj.values + rf - i},\n",
    "                       {'type':'eq','fun': lambda W: W.sum()-1})\n",
    "    res1 = minimize(variance, PortW[\"EW\"], constraints = constraint_list)\n",
    "    std = 12**0.5*(res1.fun**0.5)\n",
    "    mean = 12*(res1.x @ RiskPre_mean_adj.values + rf)\n",
    "    mean_std_4.append([std, mean])\n",
    "    \n",
    "mean_std_4 = np.array(mean_std_4)\n",
    "\n",
    "plt.figure(figsize = (15, 8))\n",
    "plt.scatter(mean_std_4[:, 0], mean_std_4[:, 1], color = \"blue\", label = \"new efficient frontier\")\n",
    "plt.scatter(mean_std_2[:, 0], mean_std_2[:, 1], color = \"green\", label = \"old efficient frontier\")\n",
    "plt.scatter(12**0.5*RiskPre_std, 12*(RiskPre_mean + rf), color = \"orange\")\n",
    "plt.scatter(12**0.5*RiskPre_std, 12*(RiskPre_mean_adj + rf), color = \"red\")\n",
    "plt.legend(loc = 'best')\n",
    "plt.xlabel(\"Volatility\")\n",
    "plt.ylabel(\"Average return\")\n",
    "plt.show()"
   ]
  },
  {
   "cell_type": "markdown",
   "metadata": {},
   "source": [
    "Efficient frontiers are different because the weight of each asset is changed."
   ]
  },
  {
   "cell_type": "markdown",
   "metadata": {},
   "source": [
    "### 5. \n",
    "\n",
    "a) Comment on the reliability of the covariance matrix estimate.  \n",
    "\n",
    "b) First,lets ignore covaraince terms:  assume that all covariances are zero and recompute the efficient frontier using the diagonal matrix of variances as the covariance matrix. (you might find the fucntion diag() from the numpy package very useful here). For this one you can focus on the case with free borrowing and lending. Report the tangency portfolio weights.\n",
    "\n",
    "c)Then, lets also ignore variance terms: assume very simply that the covariance matrix is just the identity matrix (i.e., a matrix of ones along the diagonal and zeros everywhere else). Compute tangency portfolio weights\n",
    "\n",
    "d) Now lets assume that the average returns are the same, replicated the analysis in (c), look at the weights, what portfolio is this? \n",
    "\n",
    "e) Does the mean-variance frontier change a lot or a little, relative to the analysis in 3)?  \n",
    "\n",
    "f) Discuss how important are the covariance terms relative to the variance terms.\n",
    "\n"
   ]
  },
  {
   "cell_type": "code",
   "execution_count": 13,
   "metadata": {},
   "outputs": [
    {
     "data": {
      "text/plain": [
       "array([0.15674364, 0.06459645, 0.08858328, 0.09516233, 0.07231374,\n",
       "       0.13180202, 0.10172998, 0.12518133, 0.09236373, 0.0715235 ])"
      ]
     },
     "execution_count": 13,
     "metadata": {},
     "output_type": "execute_result"
    }
   ],
   "source": [
    "# b) Ignore covaraince terms.\n",
    "RiskPre_cov_dig = np.diag(np.diag(RiskPre_cov))\n",
    "RP = np.linalg.inv(RiskPre_cov_dig) @ RiskPre_mean.values\n",
    "RP/RP.sum()"
   ]
  },
  {
   "cell_type": "code",
   "execution_count": 14,
   "metadata": {},
   "outputs": [
    {
     "data": {
      "text/plain": [
       "array([0.09780393, 0.11353212, 0.10276628, 0.1031459 , 0.11296529,\n",
       "       0.08159731, 0.10250107, 0.11459818, 0.08361891, 0.08747101])"
      ]
     },
     "execution_count": 14,
     "metadata": {},
     "output_type": "execute_result"
    }
   ],
   "source": [
    "# c) Lets also ignore variance terms.\n",
    "RiskPre_cov_ide = np.diag(np.diag(RiskPre_cov))/np.diag(RiskPre_cov)\n",
    "Tangency_ide = np.linalg.inv(RiskPre_cov_ide) @ RiskPre_mean.values\n",
    "w_t_ide = Tangency_ide/Tangency_ide.sum()\n",
    "w_t_ide"
   ]
  },
  {
   "cell_type": "code",
   "execution_count": 15,
   "metadata": {},
   "outputs": [
    {
     "data": {
      "text/plain": [
       "array([0.1, 0.1, 0.1, 0.1, 0.1, 0.1, 0.1, 0.1, 0.1, 0.1])"
      ]
     },
     "execution_count": 15,
     "metadata": {},
     "output_type": "execute_result"
    }
   ],
   "source": [
    "# d) Now lets assume that the average returns are the same.\n",
    "EW = np.linalg.inv(RiskPre_cov_ide) @ np.ones(10)*0.05\n",
    "EW/EW.sum()"
   ]
  },
  {
   "cell_type": "code",
   "execution_count": 16,
   "metadata": {
    "scrolled": false
   },
   "outputs": [
    {
     "data": {
      "image/png": "[encoded data removed]",
      "text/plain": [
       "<Figure size 1080x576 with 1 Axes>"
      ]
     },
     "metadata": {
      "needs_background": "light"
     },
     "output_type": "display_data"
    }
   ],
   "source": [
    "# e) Does the mean-variance frontier change a lot or a little, relative to the analysis in 3)?\n",
    "rf = 0.012/12\n",
    "\n",
    "slope = (RiskPre @ PortW[\"Tangency\"]).std() / (RiskPre @ PortW[\"Tangency\"]).mean()\n",
    "\n",
    "mean_std_3=[]\n",
    "for i in return_targets:\n",
    "    mean_std_3.append([i,(i - rf) * slope])\n",
    "    \n",
    "plt.figure(figsize=(15,8))\n",
    "plt.scatter(12*np.array(mean_std_3)[:,1]**2,12*np.array(mean_std_3)[:,0], color = \"blue\")\n",
    "plt.scatter(12*RiskPre_std**2, 12*(RiskPre_mean + rf), color = \"orange\")\n",
    "plt.show()"
   ]
  },
  {
   "cell_type": "markdown",
   "metadata": {},
   "source": [
    "f) Discuss how important are the covariance terms relative to the variance terms.\n",
    "\n",
    "The higher the covariance is, the more important it will be relative to the variance terms."
   ]
  },
  {
   "cell_type": "markdown",
   "metadata": {},
   "source": [
    "### 6. \n",
    "\n",
    "a) construct the portfolios returns for the 4 different approaches discussed in 4 and 5:tangent portfolio, minimum variance portfolio, minimum variance portfolio that ignores covariance terms, minimum variance portfolio that ignore covariance terms and assume variances are the same.\n",
    "\n",
    "\n",
    "b) report mean returns for 4 portfolios\n",
    "\n",
    "c) report mean returns in excess of the risk-free rate\n",
    "\n",
    "d) Report standard deviations\n",
    "\n",
    "e) report portfolio sharpe ratios by dividing the answer in (c) by the answer in (d)\n",
    "\n",
    "As always always annualize your results!!!!\n",
    "\n",
    "f) Discuss the results. Is it surprising what you find? What does that teach us about the different approaches? What are the cons/pros of each approach?\n",
    "\n",
    "g) Suggest an empirical approach to learn even more about which strategy is better (no need to implement just discuss) "
   ]
  },
  {
   "cell_type": "code",
   "execution_count": 17,
   "metadata": {
    "scrolled": false
   },
   "outputs": [
    {
     "data": {
      "text/html": [
       "<div>\n",
       "<style scoped>\n",
       "    .dataframe tbody tr th:only-of-type {\n",
       "        vertical-align: middle;\n",
       "    }\n",
       "\n",
       "    .dataframe tbody tr th {\n",
       "        vertical-align: top;\n",
       "    }\n",
       "\n",
       "    .dataframe thead th {\n",
       "        text-align: right;\n",
       "    }\n",
       "</style>\n",
       "<table border=\"1\" class=\"dataframe\">\n",
       "  <thead>\n",
       "    <tr style=\"text-align: right;\">\n",
       "      <th></th>\n",
       "      <th>Tangency</th>\n",
       "      <th>MinVar</th>\n",
       "      <th>RP</th>\n",
       "      <th>EW</th>\n",
       "    </tr>\n",
       "    <tr>\n",
       "      <th>Date</th>\n",
       "      <th></th>\n",
       "      <th></th>\n",
       "      <th></th>\n",
       "      <th></th>\n",
       "    </tr>\n",
       "  </thead>\n",
       "  <tbody>\n",
       "    <tr>\n",
       "      <th>1926-07</th>\n",
       "      <td>0.006018</td>\n",
       "      <td>-0.006479</td>\n",
       "      <td>0.028915</td>\n",
       "      <td>0.03532</td>\n",
       "    </tr>\n",
       "    <tr>\n",
       "      <th>1926-08</th>\n",
       "      <td>0.035958</td>\n",
       "      <td>0.029093</td>\n",
       "      <td>0.025345</td>\n",
       "      <td>0.02499</td>\n",
       "    </tr>\n",
       "    <tr>\n",
       "      <th>1926-09</th>\n",
       "      <td>0.008577</td>\n",
       "      <td>0.011582</td>\n",
       "      <td>0.008751</td>\n",
       "      <td>0.00896</td>\n",
       "    </tr>\n",
       "    <tr>\n",
       "      <th>1926-10</th>\n",
       "      <td>0.004046</td>\n",
       "      <td>0.011471</td>\n",
       "      <td>-0.022185</td>\n",
       "      <td>-0.02691</td>\n",
       "    </tr>\n",
       "    <tr>\n",
       "      <th>1926-11</th>\n",
       "      <td>0.041138</td>\n",
       "      <td>0.034917</td>\n",
       "      <td>0.035501</td>\n",
       "      <td>0.03314</td>\n",
       "    </tr>\n",
       "  </tbody>\n",
       "</table>\n",
       "</div>"
      ],
      "text/plain": [
       "         Tangency    MinVar        RP       EW\n",
       "Date                                          \n",
       "1926-07  0.006018 -0.006479  0.028915  0.03532\n",
       "1926-08  0.035958  0.029093  0.025345  0.02499\n",
       "1926-09  0.008577  0.011582  0.008751  0.00896\n",
       "1926-10  0.004046  0.011471 -0.022185 -0.02691\n",
       "1926-11  0.041138  0.034917  0.035501  0.03314"
      ]
     },
     "execution_count": 17,
     "metadata": {},
     "output_type": "execute_result"
    }
   ],
   "source": [
    "# a) Construct the portfolios returns for the 4 different approaches.\n",
    "PortR_1 = pd.DataFrame({\"Tangency\": df_no_rf @ PortW[\"Tangency\"],\n",
    "                      \"MinVar\": df_no_rf @ PortW[\"MinVar\"],\n",
    "                      \"RP\": df_no_rf @ PortW[\"RP\"],\n",
    "                      \"EW\": df_no_rf @ PortW[\"EW\"]},\n",
    "                       index = df_no_rf.index)\n",
    "PortR_1.head()"
   ]
  },
  {
   "cell_type": "code",
   "execution_count": 18,
   "metadata": {
    "scrolled": true
   },
   "outputs": [
    {
     "data": {
      "text/plain": [
       "Tangency    0.126211\n",
       "MinVar      0.111543\n",
       "RP          0.119550\n",
       "EW          0.120190\n",
       "dtype: float64"
      ]
     },
     "execution_count": 18,
     "metadata": {},
     "output_type": "execute_result"
    }
   ],
   "source": [
    "# b) Report mean returns for 4 portfolios\n",
    "PortR_1.mean()*12"
   ]
  },
  {
   "cell_type": "code",
   "execution_count": 19,
   "metadata": {},
   "outputs": [
    {
     "data": {
      "text/plain": [
       "Tangency    0.092367\n",
       "MinVar      0.077699\n",
       "RP          0.085705\n",
       "EW          0.086345\n",
       "dtype: float64"
      ]
     },
     "execution_count": 19,
     "metadata": {},
     "output_type": "execute_result"
    }
   ],
   "source": [
    "# c) Report mean returns in excess of the risk-free rate\n",
    "PortR.mean()*12"
   ]
  },
  {
   "cell_type": "code",
   "execution_count": 20,
   "metadata": {
    "scrolled": true
   },
   "outputs": [
    {
     "data": {
      "text/plain": [
       "Tangency    0.140307\n",
       "MinVar      0.128685\n",
       "RP          0.172875\n",
       "EW          0.181012\n",
       "dtype: float64"
      ]
     },
     "execution_count": 20,
     "metadata": {},
     "output_type": "execute_result"
    }
   ],
   "source": [
    "# d) Report standard deviations\n",
    "PortR.std()*12**0.5"
   ]
  },
  {
   "cell_type": "code",
   "execution_count": 21,
   "metadata": {},
   "outputs": [
    {
     "data": {
      "text/plain": [
       "Tangency    0.658317\n",
       "MinVar      0.603789\n",
       "RP          0.495765\n",
       "EW          0.477014\n",
       "dtype: float64"
      ]
     },
     "execution_count": 21,
     "metadata": {},
     "output_type": "execute_result"
    }
   ],
   "source": [
    "# e) Report portfolio sharpe ratios\n",
    "(PortR.mean()*12) / (PortR.std()*12**0.5)"
   ]
  },
  {
   "cell_type": "markdown",
   "metadata": {},
   "source": [
    "f) Discuss the results. Is it surprising what you find? What does that teach us about the different approaches? What are the cons/pros of each approach?\n",
    "\n",
    "By theory, the MVE has the highest Sharpe Raio. These differet approaches teach us that we cannot achieve the highest return and the lowest variance at the same time, which means that it's necessary to have a balance between risk and return.\n",
    "\n",
    "The pros of MVE portfolio is that it can achieve thet highest return on each unit of risk. The pros of MVP is that it can reach the portfolio with the lowest variance, while the cons of MVP is that it's Sharpe Ratio cannot be maximized.\n",
    "\n",
    "\n",
    "g) Suggest an empirical approach to learn even more about which strategy is better (no need to implement just discuss)\n",
    "\n",
    "We tend to use Sharpe Ratio to evaluate whether a portfolio is good or not. The higher a portfolio's Sharpe Ratio is, the better it is. Therefore, in this case, the MVE portfolio is the best among the four."
   ]
  },
  {
   "cell_type": "markdown",
   "metadata": {},
   "source": [
    "### 7.\n",
    "\n",
    "a) Using the first half of the data construct the tangency portfolio\n",
    "\n",
    "b) compute the return of the tangency portfolio (which weights you computed in a)in the second half of the sample\n",
    "\n",
    "c) repeat this for the other three approaches\n",
    "\n",
    "d) report average returns, standard deviation, and SR for both in sample and out of sample\n",
    "\n",
    "e) discuss the results\n",
    "\n"
   ]
  },
  {
   "cell_type": "code",
   "execution_count": 22,
   "metadata": {
    "scrolled": true
   },
   "outputs": [
    {
     "data": {
      "text/html": [
       "<div>\n",
       "<style scoped>\n",
       "    .dataframe tbody tr th:only-of-type {\n",
       "        vertical-align: middle;\n",
       "    }\n",
       "\n",
       "    .dataframe tbody tr th {\n",
       "        vertical-align: top;\n",
       "    }\n",
       "\n",
       "    .dataframe thead th {\n",
       "        text-align: right;\n",
       "    }\n",
       "</style>\n",
       "<table border=\"1\" class=\"dataframe\">\n",
       "  <thead>\n",
       "    <tr style=\"text-align: right;\">\n",
       "      <th></th>\n",
       "      <th>Tangency</th>\n",
       "      <th>MinVar</th>\n",
       "      <th>RP</th>\n",
       "      <th>EW</th>\n",
       "    </tr>\n",
       "  </thead>\n",
       "  <tbody>\n",
       "    <tr>\n",
       "      <th>NoDur</th>\n",
       "      <td>0.545476</td>\n",
       "      <td>1.065893</td>\n",
       "      <td>0.165595</td>\n",
       "      <td>0.1</td>\n",
       "    </tr>\n",
       "    <tr>\n",
       "      <th>Durbl</th>\n",
       "      <td>0.285060</td>\n",
       "      <td>-0.089102</td>\n",
       "      <td>0.050834</td>\n",
       "      <td>0.1</td>\n",
       "    </tr>\n",
       "    <tr>\n",
       "      <th>Manuf</th>\n",
       "      <td>-0.575249</td>\n",
       "      <td>-0.133839</td>\n",
       "      <td>0.073333</td>\n",
       "      <td>0.1</td>\n",
       "    </tr>\n",
       "    <tr>\n",
       "      <th>Enrgy</th>\n",
       "      <td>0.329079</td>\n",
       "      <td>0.189021</td>\n",
       "      <td>0.091848</td>\n",
       "      <td>0.1</td>\n",
       "    </tr>\n",
       "    <tr>\n",
       "      <th>HiTec</th>\n",
       "      <td>0.307429</td>\n",
       "      <td>-0.212825</td>\n",
       "      <td>0.063503</td>\n",
       "      <td>0.1</td>\n",
       "    </tr>\n",
       "    <tr>\n",
       "      <th>Telcm</th>\n",
       "      <td>0.563312</td>\n",
       "      <td>0.690527</td>\n",
       "      <td>0.197977</td>\n",
       "      <td>0.1</td>\n",
       "    </tr>\n",
       "    <tr>\n",
       "      <th>Shops</th>\n",
       "      <td>-0.161529</td>\n",
       "      <td>-0.162357</td>\n",
       "      <td>0.096228</td>\n",
       "      <td>0.1</td>\n",
       "    </tr>\n",
       "    <tr>\n",
       "      <th>Hlth</th>\n",
       "      <td>0.478540</td>\n",
       "      <td>0.012866</td>\n",
       "      <td>0.102781</td>\n",
       "      <td>0.1</td>\n",
       "    </tr>\n",
       "    <tr>\n",
       "      <th>Utils</th>\n",
       "      <td>-0.226187</td>\n",
       "      <td>-0.074093</td>\n",
       "      <td>0.086953</td>\n",
       "      <td>0.1</td>\n",
       "    </tr>\n",
       "    <tr>\n",
       "      <th>Other</th>\n",
       "      <td>-0.545931</td>\n",
       "      <td>-0.286090</td>\n",
       "      <td>0.070949</td>\n",
       "      <td>0.1</td>\n",
       "    </tr>\n",
       "  </tbody>\n",
       "</table>\n",
       "</div>"
      ],
      "text/plain": [
       "       Tangency    MinVar        RP   EW\n",
       "NoDur  0.545476  1.065893  0.165595  0.1\n",
       "Durbl  0.285060 -0.089102  0.050834  0.1\n",
       "Manuf -0.575249 -0.133839  0.073333  0.1\n",
       "Enrgy  0.329079  0.189021  0.091848  0.1\n",
       "HiTec  0.307429 -0.212825  0.063503  0.1\n",
       "Telcm  0.563312  0.690527  0.197977  0.1\n",
       "Shops -0.161529 -0.162357  0.096228  0.1\n",
       "Hlth   0.478540  0.012866  0.102781  0.1\n",
       "Utils -0.226187 -0.074093  0.086953  0.1\n",
       "Other -0.545931 -0.286090  0.070949  0.1"
      ]
     },
     "execution_count": 22,
     "metadata": {},
     "output_type": "execute_result"
    }
   ],
   "source": [
    "# a)&c) Using the first half of the data construct the four portfolios.\n",
    "RiskPre_cov_1h = RiskPre.iloc[:round(len(RiskPre)/2)+1,:].cov()\n",
    "RiskPre_mean_1h = RiskPre.iloc[:round(len(RiskPre)/2)+1,:].mean()\n",
    "RiskPre_cov_dig_1h = np.diag(np.diag(RiskPre_cov_1h))\n",
    "RiskPre_cov_ide_1h = np.diag(np.diag(RiskPre_cov_1h))/np.diag(RiskPre_cov_1h)\n",
    "\n",
    "Tangency_1h = np.linalg.inv(RiskPre_cov_1h) @ RiskPre_mean_1h.values\n",
    "MinVar_1h = np.linalg.inv(RiskPre_cov_1h) @ (RiskPre_mean_1h.values*0 + RiskPre_mean_1h.mean())\n",
    "MinVar_dig_1h = np.linalg.inv(RiskPre_cov_dig_1h) @ (RiskPre_mean_1h.values*0 + RiskPre_mean_1h.mean())\n",
    "MinVar_ide_1h = np.linalg.inv(RiskPre_cov_ide_1h) @ (RiskPre_mean_1h.values*0 + RiskPre_mean_1h.mean())\n",
    "\n",
    "PortW_1h = pd.DataFrame({\"Tangency\": np.array(Tangency_1h/Tangency_1h.sum()),\n",
    "                         \"MinVar\": np.array(MinVar_1h/MinVar_1h.sum()),\n",
    "                         \"RP\": np.array(MinVar_dig_1h/MinVar_dig_1h.sum()),\n",
    "                         \"EW\": np.array(MinVar_ide_1h/MinVar_ide_1h.sum())}, \n",
    "                         index = RiskPre_cov_1h.columns)\n",
    "PortW_1h"
   ]
  },
  {
   "cell_type": "code",
   "execution_count": 23,
   "metadata": {
    "scrolled": true
   },
   "outputs": [
    {
     "data": {
      "text/html": [
       "<div>\n",
       "<style scoped>\n",
       "    .dataframe tbody tr th:only-of-type {\n",
       "        vertical-align: middle;\n",
       "    }\n",
       "\n",
       "    .dataframe tbody tr th {\n",
       "        vertical-align: top;\n",
       "    }\n",
       "\n",
       "    .dataframe thead th {\n",
       "        text-align: right;\n",
       "    }\n",
       "</style>\n",
       "<table border=\"1\" class=\"dataframe\">\n",
       "  <thead>\n",
       "    <tr style=\"text-align: right;\">\n",
       "      <th></th>\n",
       "      <th>Tangency</th>\n",
       "      <th>MinVar</th>\n",
       "      <th>RP</th>\n",
       "      <th>EW</th>\n",
       "    </tr>\n",
       "    <tr>\n",
       "      <th>Date</th>\n",
       "      <th></th>\n",
       "      <th></th>\n",
       "      <th></th>\n",
       "      <th></th>\n",
       "    </tr>\n",
       "  </thead>\n",
       "  <tbody>\n",
       "    <tr>\n",
       "      <th>2015-03</th>\n",
       "      <td>-0.023554</td>\n",
       "      <td>-0.036249</td>\n",
       "      <td>-0.013330</td>\n",
       "      <td>-0.01167</td>\n",
       "    </tr>\n",
       "    <tr>\n",
       "      <th>2015-04</th>\n",
       "      <td>0.044685</td>\n",
       "      <td>0.044240</td>\n",
       "      <td>0.011226</td>\n",
       "      <td>0.00807</td>\n",
       "    </tr>\n",
       "    <tr>\n",
       "      <th>2015-05</th>\n",
       "      <td>0.012890</td>\n",
       "      <td>0.000076</td>\n",
       "      <td>0.008444</td>\n",
       "      <td>0.00809</td>\n",
       "    </tr>\n",
       "    <tr>\n",
       "      <th>2015-06</th>\n",
       "      <td>-0.011230</td>\n",
       "      <td>-0.007313</td>\n",
       "      <td>-0.016335</td>\n",
       "      <td>-0.01866</td>\n",
       "    </tr>\n",
       "    <tr>\n",
       "      <th>2015-07</th>\n",
       "      <td>0.010850</td>\n",
       "      <td>0.028670</td>\n",
       "      <td>0.013482</td>\n",
       "      <td>0.00841</td>\n",
       "    </tr>\n",
       "  </tbody>\n",
       "</table>\n",
       "</div>"
      ],
      "text/plain": [
       "         Tangency    MinVar        RP       EW\n",
       "Date                                          \n",
       "2015-03 -0.023554 -0.036249 -0.013330 -0.01167\n",
       "2015-04  0.044685  0.044240  0.011226  0.00807\n",
       "2015-05  0.012890  0.000076  0.008444  0.00809\n",
       "2015-06 -0.011230 -0.007313 -0.016335 -0.01866\n",
       "2015-07  0.010850  0.028670  0.013482  0.00841"
      ]
     },
     "execution_count": 23,
     "metadata": {},
     "output_type": "execute_result"
    }
   ],
   "source": [
    "# b)&c) compute the return of the four portfolios in the second half of the sample.\n",
    "PortR_2h = pd.DataFrame({\"Tangency\": RiskPre.iloc[round(len(RiskPre)/2)+1:,:] @ PortW_1h[\"Tangency\"],\n",
    "                         \"MinVar\": RiskPre.iloc[round(len(RiskPre)/2)+1:,:] @ PortW_1h[\"MinVar\"],\n",
    "                         \"RP\": RiskPre.iloc[round(len(RiskPre)/2)+1:,:] @ PortW_1h[\"RP\"],\n",
    "                         \"EW\": RiskPre.iloc[round(len(RiskPre)/2)+1:,:] @ PortW_1h[\"EW\"]},\n",
    "                          index = RiskPre.iloc[round(len(RiskPre)/2)+1:,:].index)\n",
    "PortR_2h.tail()"
   ]
  },
  {
   "cell_type": "code",
   "execution_count": 24,
   "metadata": {},
   "outputs": [],
   "source": [
    "# d) Report average returns, standard deviation, and SR for both in sample and out of sample.\n",
    "PortR_1h = pd.DataFrame({\"Tangency\": RiskPre.iloc[:round(len(RiskPre)/2)+1,:] @ PortW_1h[\"Tangency\"],\n",
    "                           \"MinVar\": RiskPre.iloc[:round(len(RiskPre)/2)+1,:] @ PortW_1h[\"MinVar\"],\n",
    "                           \"RP\": RiskPre.iloc[:round(len(RiskPre)/2)+1,:] @ PortW_1h[\"RP\"],\n",
    "                           \"EW\": RiskPre.iloc[:round(len(RiskPre)/2)+1,:] @ PortW_1h[\"EW\"]},\n",
    "                          index = RiskPre.iloc[:round(len(RiskPre)/2)+1,:].index)"
   ]
  },
  {
   "cell_type": "code",
   "execution_count": 25,
   "metadata": {
    "scrolled": true
   },
   "outputs": [
    {
     "name": "stdout",
     "output_type": "stream",
     "text": [
      "Mean, std, and SR for in sample:\n"
     ]
    },
    {
     "data": {
      "text/html": [
       "<div>\n",
       "<style scoped>\n",
       "    .dataframe tbody tr th:only-of-type {\n",
       "        vertical-align: middle;\n",
       "    }\n",
       "\n",
       "    .dataframe tbody tr th {\n",
       "        vertical-align: top;\n",
       "    }\n",
       "\n",
       "    .dataframe thead th {\n",
       "        text-align: right;\n",
       "    }\n",
       "</style>\n",
       "<table border=\"1\" class=\"dataframe\">\n",
       "  <thead>\n",
       "    <tr style=\"text-align: right;\">\n",
       "      <th></th>\n",
       "      <th>Mean</th>\n",
       "      <th>Std</th>\n",
       "      <th>SR</th>\n",
       "    </tr>\n",
       "  </thead>\n",
       "  <tbody>\n",
       "    <tr>\n",
       "      <th>Tangency</th>\n",
       "      <td>0.108648</td>\n",
       "      <td>0.161223</td>\n",
       "      <td>0.673900</td>\n",
       "    </tr>\n",
       "    <tr>\n",
       "      <th>MinVar</th>\n",
       "      <td>0.056997</td>\n",
       "      <td>0.116773</td>\n",
       "      <td>0.488102</td>\n",
       "    </tr>\n",
       "    <tr>\n",
       "      <th>RP</th>\n",
       "      <td>0.094387</td>\n",
       "      <td>0.191357</td>\n",
       "      <td>0.493251</td>\n",
       "    </tr>\n",
       "    <tr>\n",
       "      <th>EW</th>\n",
       "      <td>0.100615</td>\n",
       "      <td>0.209056</td>\n",
       "      <td>0.481284</td>\n",
       "    </tr>\n",
       "  </tbody>\n",
       "</table>\n",
       "</div>"
      ]
     },
     "metadata": {},
     "output_type": "display_data"
    },
    {
     "name": "stdout",
     "output_type": "stream",
     "text": [
      "Mean, std, and SR for out of sample:\n"
     ]
    },
    {
     "data": {
      "text/html": [
       "<div>\n",
       "<style scoped>\n",
       "    .dataframe tbody tr th:only-of-type {\n",
       "        vertical-align: middle;\n",
       "    }\n",
       "\n",
       "    .dataframe tbody tr th {\n",
       "        vertical-align: top;\n",
       "    }\n",
       "\n",
       "    .dataframe thead th {\n",
       "        text-align: right;\n",
       "    }\n",
       "</style>\n",
       "<table border=\"1\" class=\"dataframe\">\n",
       "  <thead>\n",
       "    <tr style=\"text-align: right;\">\n",
       "      <th></th>\n",
       "      <th>Mean</th>\n",
       "      <th>Std</th>\n",
       "      <th>SR</th>\n",
       "    </tr>\n",
       "  </thead>\n",
       "  <tbody>\n",
       "    <tr>\n",
       "      <th>Tangency</th>\n",
       "      <td>0.086212</td>\n",
       "      <td>0.162794</td>\n",
       "      <td>0.529578</td>\n",
       "    </tr>\n",
       "    <tr>\n",
       "      <th>MinVar</th>\n",
       "      <td>0.091188</td>\n",
       "      <td>0.148566</td>\n",
       "      <td>0.613786</td>\n",
       "    </tr>\n",
       "    <tr>\n",
       "      <th>RP</th>\n",
       "      <td>0.073835</td>\n",
       "      <td>0.141464</td>\n",
       "      <td>0.521937</td>\n",
       "    </tr>\n",
       "    <tr>\n",
       "      <th>EW</th>\n",
       "      <td>0.072048</td>\n",
       "      <td>0.147760</td>\n",
       "      <td>0.487604</td>\n",
       "    </tr>\n",
       "  </tbody>\n",
       "</table>\n",
       "</div>"
      ]
     },
     "metadata": {},
     "output_type": "display_data"
    }
   ],
   "source": [
    "Mean_Std_SR_in = pd.DataFrame({\"Mean\": PortR_1h.mean()*12,\n",
    "                               \"Std\": PortR_1h.std()*12**0.5,\n",
    "                               \"SR\": (PortR_1h.mean()*12)/(PortR_1h.std()*12**0.5)}, \n",
    "                              index = [\"Tangency\", \"MinVar\", \"RP\", \"EW\"])\n",
    "print(\"Mean, std, and SR for in sample:\")\n",
    "display_html(Mean_Std_SR_in)\n",
    "Mean_Std_SR_out = pd.DataFrame({\"Mean\": PortR_2h.mean()*12,\n",
    "                                \"Std\": PortR_2h.std()*12**0.5,\n",
    "                                \"SR\": (PortR_2h.mean()*12)/(PortR_2h.std()*12**0.5)}, \n",
    "                               index = [\"Tangency\", \"MinVar\", \"RP\", \"EW\"])\n",
    "print(\"Mean, std, and SR for out of sample:\")\n",
    "display_html(Mean_Std_SR_out)"
   ]
  },
  {
   "cell_type": "markdown",
   "metadata": {},
   "source": [
    "e) Discuss the results\n",
    "\n",
    "The sample size is not large enough so there is some difference.\n"
   ]
  },
  {
   "cell_type": "markdown",
   "metadata": {},
   "source": [
    "### 8.\n",
    "\n",
    "a) Lets now do an out-of-sample test on a rolling basis. Estimate the tangency portfolio using the first 120 months of data, compute the realized return in month 121.\n",
    "\n",
    "b) Then compute the tangency portfolio using data from month to 121, compute the realized return for month 122. Do that on a rolling basis for the entire sample.\n",
    "\n",
    "c) repeat this for the other three approaches\n",
    "\n",
    "d) report average retursn, standard deviations, and sharpe ratios\n",
    "\n",
    "e) discuss\n",
    "\n",
    "TIP: You want to use a for loop"
   ]
  },
  {
   "cell_type": "code",
   "execution_count": 26,
   "metadata": {
    "scrolled": true
   },
   "outputs": [],
   "source": [
    "# a),b)&c)\n",
    "PortR_next = []\n",
    "for n in range(120, len(RiskPre)):\n",
    "    RiskPre_cov_loop = RiskPre[:n].cov()\n",
    "    RiskPre_mean_loop = RiskPre[:n].mean()\n",
    "    RiskPre_cov_dig_loop = np.diag(np.diag(RiskPre_cov_loop))\n",
    "    RiskPre_cov_ide_loop = np.diag(np.diag(RiskPre_cov_loop))/np.diag(RiskPre_cov_loop)\n",
    "\n",
    "    Tangency_loop = np.linalg.inv(RiskPre_cov_loop) @ RiskPre_mean_loop\n",
    "    MinVar_loop = np.linalg.inv(RiskPre_cov_loop) @ (RiskPre_mean_loop*0 + RiskPre_mean_loop.mean())\n",
    "    MinVar_dig_loop = np.linalg.inv(RiskPre_cov_dig_loop) @ (RiskPre_mean_loop*0 + RiskPre_mean_loop.mean())\n",
    "    MinVar_ide_loop = np.linalg.inv(RiskPre_cov_ide_loop) @ (RiskPre_mean_loop*0 + RiskPre_mean_loop.mean())\n",
    "\n",
    "    W_Tangency = np.array(Tangency_loop/Tangency_loop.sum())\n",
    "    W_MinVar = np.array(MinVar_loop/MinVar_loop.sum())\n",
    "    W_RP = np.array(MinVar_dig_loop/MinVar_dig_loop.sum())\n",
    "    W_EW = np.array(MinVar_ide_loop/MinVar_ide_loop.sum())\n",
    "    \n",
    "    PortR_next.append([RiskPre.iloc[n,:] @ W_Tangency, RiskPre.iloc[n,:] @ W_MinVar,\n",
    "                       RiskPre.iloc[n,:] @ W_RP, RiskPre.iloc[n,:] @ W_EW])"
   ]
  },
  {
   "cell_type": "code",
   "execution_count": 27,
   "metadata": {},
   "outputs": [
    {
     "data": {
      "text/html": [
       "<div>\n",
       "<style scoped>\n",
       "    .dataframe tbody tr th:only-of-type {\n",
       "        vertical-align: middle;\n",
       "    }\n",
       "\n",
       "    .dataframe tbody tr th {\n",
       "        vertical-align: top;\n",
       "    }\n",
       "\n",
       "    .dataframe thead th {\n",
       "        text-align: right;\n",
       "    }\n",
       "</style>\n",
       "<table border=\"1\" class=\"dataframe\">\n",
       "  <thead>\n",
       "    <tr style=\"text-align: right;\">\n",
       "      <th></th>\n",
       "      <th>Tangency</th>\n",
       "      <th>MinVar</th>\n",
       "      <th>RP</th>\n",
       "      <th>EW</th>\n",
       "    </tr>\n",
       "    <tr>\n",
       "      <th>Date</th>\n",
       "      <th></th>\n",
       "      <th></th>\n",
       "      <th></th>\n",
       "      <th></th>\n",
       "    </tr>\n",
       "  </thead>\n",
       "  <tbody>\n",
       "    <tr>\n",
       "      <th>1936-07</th>\n",
       "      <td>-0.072121</td>\n",
       "      <td>-0.041310</td>\n",
       "      <td>0.055652</td>\n",
       "      <td>0.06680</td>\n",
       "    </tr>\n",
       "    <tr>\n",
       "      <th>1936-08</th>\n",
       "      <td>-0.002637</td>\n",
       "      <td>0.005132</td>\n",
       "      <td>0.007838</td>\n",
       "      <td>0.00732</td>\n",
       "    </tr>\n",
       "    <tr>\n",
       "      <th>1936-09</th>\n",
       "      <td>-0.043353</td>\n",
       "      <td>-0.013124</td>\n",
       "      <td>0.005634</td>\n",
       "      <td>0.00759</td>\n",
       "    </tr>\n",
       "    <tr>\n",
       "      <th>1936-10</th>\n",
       "      <td>-0.124820</td>\n",
       "      <td>0.019603</td>\n",
       "      <td>0.064274</td>\n",
       "      <td>0.06813</td>\n",
       "    </tr>\n",
       "    <tr>\n",
       "      <th>1936-11</th>\n",
       "      <td>0.018801</td>\n",
       "      <td>0.038917</td>\n",
       "      <td>0.035829</td>\n",
       "      <td>0.03138</td>\n",
       "    </tr>\n",
       "  </tbody>\n",
       "</table>\n",
       "</div>"
      ],
      "text/plain": [
       "         Tangency    MinVar        RP       EW\n",
       "Date                                          \n",
       "1936-07 -0.072121 -0.041310  0.055652  0.06680\n",
       "1936-08 -0.002637  0.005132  0.007838  0.00732\n",
       "1936-09 -0.043353 -0.013124  0.005634  0.00759\n",
       "1936-10 -0.124820  0.019603  0.064274  0.06813\n",
       "1936-11  0.018801  0.038917  0.035829  0.03138"
      ]
     },
     "metadata": {},
     "output_type": "display_data"
    },
    {
     "name": "stdout",
     "output_type": "stream",
     "text": [
      "Mean, std, and SR:\n"
     ]
    },
    {
     "data": {
      "text/html": [
       "<div>\n",
       "<style scoped>\n",
       "    .dataframe tbody tr th:only-of-type {\n",
       "        vertical-align: middle;\n",
       "    }\n",
       "\n",
       "    .dataframe tbody tr th {\n",
       "        vertical-align: top;\n",
       "    }\n",
       "\n",
       "    .dataframe thead th {\n",
       "        text-align: right;\n",
       "    }\n",
       "</style>\n",
       "<table border=\"1\" class=\"dataframe\">\n",
       "  <thead>\n",
       "    <tr style=\"text-align: right;\">\n",
       "      <th></th>\n",
       "      <th>Mean</th>\n",
       "      <th>Std</th>\n",
       "      <th>SR</th>\n",
       "    </tr>\n",
       "  </thead>\n",
       "  <tbody>\n",
       "    <tr>\n",
       "      <th>Tangency</th>\n",
       "      <td>0.061405</td>\n",
       "      <td>0.159077</td>\n",
       "      <td>0.111432</td>\n",
       "    </tr>\n",
       "    <tr>\n",
       "      <th>MinVar</th>\n",
       "      <td>0.072159</td>\n",
       "      <td>0.129880</td>\n",
       "      <td>0.160382</td>\n",
       "    </tr>\n",
       "    <tr>\n",
       "      <th>RP</th>\n",
       "      <td>0.082157</td>\n",
       "      <td>0.140038</td>\n",
       "      <td>0.169360</td>\n",
       "    </tr>\n",
       "    <tr>\n",
       "      <th>EW</th>\n",
       "      <td>0.083794</td>\n",
       "      <td>0.149126</td>\n",
       "      <td>0.162207</td>\n",
       "    </tr>\n",
       "  </tbody>\n",
       "</table>\n",
       "</div>"
      ],
      "text/plain": [
       "              Mean       Std        SR\n",
       "Tangency  0.061405  0.159077  0.111432\n",
       "MinVar    0.072159  0.129880  0.160382\n",
       "RP        0.082157  0.140038  0.169360\n",
       "EW        0.083794  0.149126  0.162207"
      ]
     },
     "metadata": {},
     "output_type": "display_data"
    }
   ],
   "source": [
    "# b) Compute the realized return on a rolling basis\n",
    "PortR_next_df = pd.DataFrame(data = np.array(PortR_next), index = RiskPre.iloc[120:,:].index)\n",
    "PortR_next_df.rename(columns = {0: 'Tangency', 1: 'MinVar', 2: 'RP', 3: 'EW'}, inplace = True)\n",
    "display(PortR_next_df.head())\n",
    "\n",
    "# d) Report average retursn, standard deviations, and sharpe ratios.\n",
    "print(\"Mean, std, and SR:\")\n",
    "Mean_Std_SR_loop = pd.DataFrame({\"Mean\": PortR_next_df.mean()*12,\n",
    "                                \"Std\": PortR_next_df.std()*12**0.5,\n",
    "                                \"SR\": PortR_next_df.mean()/PortR_next_df.std()}, index = Mean_Std_SR_out.index)\n",
    "display(Mean_Std_SR_loop)"
   ]
  },
  {
   "cell_type": "markdown",
   "metadata": {},
   "source": [
    "e) Discuss\n",
    "\n",
    "Under rolling basis, the performance of MVE portfolio is not the best."
   ]
  }
 ],
 "metadata": {
  "kernelspec": {
   "display_name": "Python 3",
   "language": "python",
   "name": "python3"
  },
  "language_info": {
   "codemirror_mode": {
    "name": "ipython",
    "version": 3
   },
   "file_extension": ".py",
   "mimetype": "text/x-python",
   "name": "python",
   "nbconvert_exporter": "python",
   "pygments_lexer": "ipython3",
   "version": "3.7.3"
  }
 },
 "nbformat": 4,
 "nbformat_minor": 2
}
